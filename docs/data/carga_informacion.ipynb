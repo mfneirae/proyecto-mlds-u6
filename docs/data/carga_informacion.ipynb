{
  "nbformat": 4,
  "nbformat_minor": 0,
  "metadata": {
    "colab": {
      "provenance": []
    },
    "kernelspec": {
      "name": "python3",
      "display_name": "Python 3"
    },
    "language_info": {
      "name": "python"
    }
  },
  "cells": [
    {
      "cell_type": "markdown",
      "source": [
        "# <font color='2b6fa8ff'>**Extracción de la Información**</font>\n"
      ],
      "metadata": {
        "id": "Fo7SwMqxU0Bz"
      }
    },
    {
      "cell_type": "markdown",
      "source": [
        "## <font color='2b6fa8ff'>**Librerías**</font>"
      ],
      "metadata": {
        "id": "ufra3d2tYDQM"
      }
    },
    {
      "cell_type": "code",
      "source": [
        "import pandas as pd\n",
        "import requests\n",
        "import logging"
      ],
      "metadata": {
        "id": "e1HuPme0Vt2c"
      },
      "execution_count": 30,
      "outputs": []
    },
    {
      "cell_type": "markdown",
      "source": [
        "## <font color='2b6fa8ff'>**Helpers**</font>"
      ],
      "metadata": {
        "id": "2BVJFegOYFXu"
      }
    },
    {
      "cell_type": "code",
      "source": [
        "def create_logger():\n",
        "  '''\n",
        "  Crea la base de logging.\n",
        "\n",
        "  Args:\n",
        "  -----\n",
        "      None\n",
        "\n",
        "  Returns:\n",
        "  --------\n",
        "      None\n",
        "\n",
        "  Examples:\n",
        "  ---------\n",
        "      >>> create_logger()\n",
        "  '''\n",
        "  logging.basicConfig(\n",
        "    level=logging.INFO,\n",
        "    format='%(asctime)s - %(levelname)s - %(message)s'\n",
        "  )\n",
        "  logger = logging.getLogger(\"Logger\")\n",
        "  logger.info(\"Logger creado\")\n",
        "  return logger"
      ],
      "metadata": {
        "id": "EWnXrQMFWR5m"
      },
      "execution_count": 56,
      "outputs": []
    },
    {
      "cell_type": "code",
      "execution_count": 57,
      "metadata": {
        "id": "8JkeA5ITUx0b"
      },
      "outputs": [],
      "source": [
        "# Función de consumo a la base de datos de Firebase para cargar el DataSet\n",
        "def download_firebase(url,logger):\n",
        "  '''\n",
        "    Extrae la base de datos que fue previamente almacenada en Firebase en un CSV para facilitar su acceso\n",
        "\n",
        "    Args:\n",
        "    -----\n",
        "        url : str\n",
        "              URL de acceso público al CSV que contiene la información.\n",
        "\n",
        "    Returns:\n",
        "    --------\n",
        "        pandas df\n",
        "               Dataframe con la información extraída.\n",
        "\n",
        "    Examples:\n",
        "    ---------\n",
        "        >>> download_firebase(url)\n",
        "  '''\n",
        "  logger.info(\"Extrayendo el archivo desde Firebase\")\n",
        "  df = None\n",
        "  try:\n",
        "    df = pd.read_csv(url)\n",
        "    logger.info(\"Archivo cargado\")\n",
        "  except requests.exceptions.RequestException as e:\n",
        "    logger.error(f\"Error al descargar el archivo CSV: {e}\")\n",
        "  except pd.errors.EmptyDataError:\n",
        "    logger.error(\"El archivo CSV está vacío.\")\n",
        "  except Exception as e:\n",
        "    logger.error(f\"Ocurrió un error inesperado: {e}\")\n",
        "  return df"
      ]
    },
    {
      "cell_type": "markdown",
      "source": [
        "## <font color='2b6fa8ff'>**Script**</font>"
      ],
      "metadata": {
        "id": "LdqDXtUnYHv9"
      }
    },
    {
      "cell_type": "code",
      "source": [
        "logger = create_logger()"
      ],
      "metadata": {
        "id": "tP1RSaabWe2F"
      },
      "execution_count": 58,
      "outputs": []
    },
    {
      "cell_type": "code",
      "source": [
        "url ='https://firebasestorage.googleapis.com/v0/b/personalwp-8822c.appspot.com/o/diabetes_prediction_dataset.csv?alt=media&token=4d70d154-c3d0-4fa0-a3aa-9b9972dd3b95'\n",
        "df = download_firebase(url,logger)"
      ],
      "metadata": {
        "id": "aCrsW9xsVhl9"
      },
      "execution_count": 60,
      "outputs": []
    },
    {
      "cell_type": "code",
      "source": [
        "df.info()"
      ],
      "metadata": {
        "colab": {
          "base_uri": "https://localhost:8080/"
        },
        "id": "Tq-XKfHFXz3d",
        "outputId": "2a6816f7-5231-4c53-9bb0-29aadea9f648"
      },
      "execution_count": 62,
      "outputs": [
        {
          "output_type": "stream",
          "name": "stdout",
          "text": [
            "<class 'pandas.core.frame.DataFrame'>\n",
            "RangeIndex: 100000 entries, 0 to 99999\n",
            "Data columns (total 9 columns):\n",
            " #   Column               Non-Null Count   Dtype  \n",
            "---  ------               --------------   -----  \n",
            " 0   gender               100000 non-null  object \n",
            " 1   age                  100000 non-null  float64\n",
            " 2   hypertension         100000 non-null  int64  \n",
            " 3   heart_disease        100000 non-null  int64  \n",
            " 4   smoking_history      100000 non-null  object \n",
            " 5   bmi                  100000 non-null  float64\n",
            " 6   HbA1c_level          100000 non-null  float64\n",
            " 7   blood_glucose_level  100000 non-null  int64  \n",
            " 8   diabetes             100000 non-null  int64  \n",
            "dtypes: float64(3), int64(4), object(2)\n",
            "memory usage: 6.9+ MB\n"
          ]
        }
      ]
    }
  ]
}