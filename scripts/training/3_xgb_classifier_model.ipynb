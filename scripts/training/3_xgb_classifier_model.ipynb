{
  "nbformat": 4,
  "nbformat_minor": 0,
  "metadata": {
    "colab": {
      "provenance": []
    },
    "kernelspec": {
      "name": "python3",
      "display_name": "Python 3"
    },
    "language_info": {
      "name": "python"
    }
  },
  "cells": [
    {
      "cell_type": "markdown",
      "source": [
        "# **Reporte del Modelo Baseline**\n",
        "---"
      ],
      "metadata": {
        "id": "_A20c97_oVyt"
      }
    },
    {
      "cell_type": "code",
      "execution_count": 16,
      "metadata": {
        "id": "t2wCi1ZIoEiq",
        "colab": {
          "base_uri": "https://localhost:8080/"
        },
        "outputId": "b8d1e22e-97e8-4129-8848-05d4d71db5c2"
      },
      "outputs": [
        {
          "output_type": "stream",
          "name": "stdout",
          "text": [
            "Requirement already satisfied: optuna in /usr/local/lib/python3.10/dist-packages (4.1.0)\n",
            "Requirement already satisfied: alembic>=1.5.0 in /usr/local/lib/python3.10/dist-packages (from optuna) (1.14.0)\n",
            "Requirement already satisfied: colorlog in /usr/local/lib/python3.10/dist-packages (from optuna) (6.9.0)\n",
            "Requirement already satisfied: numpy in /usr/local/lib/python3.10/dist-packages (from optuna) (1.26.4)\n",
            "Requirement already satisfied: packaging>=20.0 in /usr/local/lib/python3.10/dist-packages (from optuna) (24.2)\n",
            "Requirement already satisfied: sqlalchemy>=1.4.2 in /usr/local/lib/python3.10/dist-packages (from optuna) (2.0.36)\n",
            "Requirement already satisfied: tqdm in /usr/local/lib/python3.10/dist-packages (from optuna) (4.66.6)\n",
            "Requirement already satisfied: PyYAML in /usr/local/lib/python3.10/dist-packages (from optuna) (6.0.2)\n",
            "Requirement already satisfied: Mako in /usr/local/lib/python3.10/dist-packages (from alembic>=1.5.0->optuna) (1.3.8)\n",
            "Requirement already satisfied: typing-extensions>=4 in /usr/local/lib/python3.10/dist-packages (from alembic>=1.5.0->optuna) (4.12.2)\n",
            "Requirement already satisfied: greenlet!=0.4.17 in /usr/local/lib/python3.10/dist-packages (from sqlalchemy>=1.4.2->optuna) (3.1.1)\n",
            "Requirement already satisfied: MarkupSafe>=0.9.2 in /usr/local/lib/python3.10/dist-packages (from Mako->alembic>=1.5.0->optuna) (3.0.2)\n"
          ]
        }
      ],
      "source": [
        "# Librerias\n",
        "!pip install optuna\n",
        "import os\n",
        "import requests\n",
        "import logging\n",
        "import optuna\n",
        "import pandas as pd\n",
        "import matplotlib.pyplot as plt\n",
        "import seaborn as sns\n",
        "import numpy as np\n",
        "from sklearn.model_selection import train_test_split\n",
        "from xgboost import XGBClassifier\n",
        "from sklearn.metrics import accuracy_score\n",
        "from sklearn.metrics import accuracy_score\n",
        "from sklearn.metrics import precision_score\n",
        "from sklearn.metrics import recall_score\n",
        "from sklearn.metrics import f1_score"
      ]
    },
    {
      "cell_type": "code",
      "source": [
        "# Funcion para crear el objeto de creación de logs\n",
        "def create_logger():\n",
        "  logging.basicConfig(level = logging.INFO, format = '%(asctime)s - %(levenname)s - %(message)s')\n",
        "  logger = logging.getLogger('Logger')\n",
        "  logger.info('Logger creado')\n",
        "  return logger"
      ],
      "metadata": {
        "id": "iYKsYEk5qQjC"
      },
      "execution_count": 2,
      "outputs": []
    },
    {
      "cell_type": "code",
      "source": [
        "# Función de consumo a la base de datos de Firebase para cargar el DataSet\n",
        "def download_firebase(url, logger):\n",
        "  logger.info(\"Extrayendo el archivo desde Firebase\")\n",
        "  df = None\n",
        "  try:\n",
        "    df = pd.read_csv(url)\n",
        "    logger.info(\"Archivo cargado\")\n",
        "  except requests.exceptions.RequestException as e:\n",
        "    logger.info(f\"Error al descargar el archivo CSV: {e}\")\n",
        "  except pd.errors.EmptyDataError:\n",
        "    logger.info(\"El archivo CSV está vacío.\")\n",
        "  except Exception as e:\n",
        "    logger.info(f\"Ocurrió un error inesperado: {e}\")\n",
        "  return df"
      ],
      "metadata": {
        "id": "598_LJBno5tg"
      },
      "execution_count": 3,
      "outputs": []
    },
    {
      "cell_type": "code",
      "source": [
        "# Cargar DataSet\n",
        "url = 'https://firebasestorage.googleapis.com/v0/b/personalwp-8822c.appspot.com/o/diabetes_prediction_dataset.csv?alt=media&token=4d70d154-c3d0-4fa0-a3aa-9b9972dd3b95'\n",
        "logger = create_logger()\n",
        "df = download_firebase(url, logger)"
      ],
      "metadata": {
        "id": "xMUXQgZWo7qG"
      },
      "execution_count": 4,
      "outputs": []
    },
    {
      "cell_type": "code",
      "source": [
        "# Eliminación de valores atípicos y duplicados\n",
        "seventy_fifth = df['bmi'].quantile(0.75)\n",
        "twenty_fifth = df['bmi'].quantile(0.25)\n",
        "iqr = seventy_fifth - twenty_fifth\n",
        "upper = seventy_fifth + (10 * iqr)\n",
        "outliers_bmi_upper = df[(df['bmi'] > upper)]\n",
        "df = pd.merge(df, outliers_bmi_upper, indicator = True, how = 'outer').query('_merge == \"left_only\"').drop('_merge', axis = 1)\n",
        "df = df.drop_duplicates(keep = \"first\")"
      ],
      "metadata": {
        "id": "wA30JSPQo0GO"
      },
      "execution_count": 5,
      "outputs": []
    },
    {
      "cell_type": "code",
      "source": [
        "# Variables Categóricas a Numéricas\n",
        "df['gender'] = pd.factorize(df['gender'])[0]\n",
        "df['smoking_history'] = pd.factorize(df['smoking_history'])[0]"
      ],
      "metadata": {
        "id": "B4IRET2Ytun7"
      },
      "execution_count": 40,
      "outputs": []
    },
    {
      "cell_type": "markdown",
      "source": [
        "## **Implementación del Modelo**"
      ],
      "metadata": {
        "id": "2zzSq2C0IaKc"
      }
    },
    {
      "cell_type": "markdown",
      "source": [
        "### **Partición de Datos**"
      ],
      "metadata": {
        "id": "K0YLx3QDr7DH"
      }
    },
    {
      "cell_type": "code",
      "source": [
        "# Separación de la 'Data' (Características)\n",
        "X = df.drop(columns = 'diabetes')\n",
        "X.shape"
      ],
      "metadata": {
        "colab": {
          "base_uri": "https://localhost:8080/"
        },
        "id": "3GWAAMssuvmg",
        "outputId": "82479375-46b5-487d-ff39-9d9ec5bae783"
      },
      "execution_count": 7,
      "outputs": [
        {
          "output_type": "execute_result",
          "data": {
            "text/plain": [
              "(96143, 8)"
            ]
          },
          "metadata": {},
          "execution_count": 7
        }
      ]
    },
    {
      "cell_type": "code",
      "source": [
        "# Separación del 'Target' (Variable objetivo)\n",
        "y = df['diabetes']\n",
        "y.shape"
      ],
      "metadata": {
        "colab": {
          "base_uri": "https://localhost:8080/"
        },
        "id": "cGyAP8ECuwXQ",
        "outputId": "6b0970d7-8e8e-4573-aca0-3f1b10d40fe4"
      },
      "execution_count": 8,
      "outputs": [
        {
          "output_type": "execute_result",
          "data": {
            "text/plain": [
              "(96143,)"
            ]
          },
          "metadata": {},
          "execution_count": 8
        }
      ]
    },
    {
      "cell_type": "code",
      "source": [
        "# Partición de los datos: 70% para entrenamiento, 30% para prueba y estratificación en las etiquetas (y)\n",
        "X_train, X_test, y_train, y_test = train_test_split(X, y, test_size = 0.3, random_state = 42, stratify = y)"
      ],
      "metadata": {
        "id": "KQqBrKLuuU-Z"
      },
      "execution_count": 9,
      "outputs": []
    },
    {
      "cell_type": "code",
      "source": [
        "# Validación de la partición de los datos\n",
        "print(f'Número de muestras en entrenamiento: {X_train.shape[0]}')\n",
        "print(f'Número de muestras en prueba: {X_test.shape[0]}')\n",
        "print(f'Número de características: {X_train.shape[1]}')"
      ],
      "metadata": {
        "colab": {
          "base_uri": "https://localhost:8080/"
        },
        "id": "kYejGOa2vasR",
        "outputId": "35c11480-ab2c-4778-8db0-b1fd0d399635"
      },
      "execution_count": 10,
      "outputs": [
        {
          "output_type": "stream",
          "name": "stdout",
          "text": [
            "Número de muestras en entrenamiento: 67300\n",
            "Número de muestras en prueba: 28843\n",
            "Número de características: 8\n"
          ]
        }
      ]
    },
    {
      "cell_type": "code",
      "source": [
        "# Distribución de la variable objetivo en los conjuntos de entrenamiento y prueba\n",
        "print(f'Distribución de clases en entrenamiento: {np.bincount(y_train)}')\n",
        "print(f'Distribución de clases en prueba: {np.bincount(y_test)}')"
      ],
      "metadata": {
        "colab": {
          "base_uri": "https://localhost:8080/"
        },
        "id": "Xlh0y5UAwHkZ",
        "outputId": "0dad96dc-616c-4f79-dd63-a9d7fe01edbc"
      },
      "execution_count": 11,
      "outputs": [
        {
          "output_type": "stream",
          "name": "stdout",
          "text": [
            "Distribución de clases en entrenamiento: [61363  5937]\n",
            "Distribución de clases en prueba: [26298  2545]\n"
          ]
        }
      ]
    },
    {
      "cell_type": "markdown",
      "source": [
        "### **Entrenamiento del Modelo**"
      ],
      "metadata": {
        "id": "UF62NHrPwf2h"
      }
    },
    {
      "cell_type": "code",
      "source": [
        "# Función para la definición y entrenamiento de hiperparámetros a explorar\n",
        "def objective(trial):\n",
        "  max_depth = trial.suggest_int(\"max_depth\", 1, 100)\n",
        "  n_estimators = trial.suggest_int(\"n_estimators\", 1, 200)\n",
        "  learning_rate = trial.suggest_float(\"learning_rate\", 1e-6, 1, log = True)\n",
        "  model = XGBClassifier(max_depth = max_depth, n_estimators = n_estimators, learning_rate = learning_rate)\n",
        "  model.fit(X_train, y_train)\n",
        "  y_pred = model.predict(X_test)\n",
        "  score = accuracy_score(y_test, y_pred)\n",
        "  return score"
      ],
      "metadata": {
        "id": "XYM1pPGkxMN9"
      },
      "execution_count": 12,
      "outputs": []
    },
    {
      "cell_type": "code",
      "source": [
        "# Exploración de hiperparámetros\n",
        "study = optuna.create_study(direction = \"maximize\", storage = \"sqlite:///hp.db\", study_name = \"XGBClassifier\")\n",
        "study.optimize(func = objective, n_trials = 100, n_jobs = -1)"
      ],
      "metadata": {
        "colab": {
          "base_uri": "https://localhost:8080/"
        },
        "id": "CXIfOYa0z8cP",
        "outputId": "dae1a7f9-f059-497c-aa8c-d38d639d4837"
      },
      "execution_count": 13,
      "outputs": [
        {
          "output_type": "stream",
          "name": "stderr",
          "text": [
            "[I 2024-12-12 20:44:31,476] A new study created in RDB with name: XGBClassifier\n",
            "[I 2024-12-12 20:44:32,348] Trial 1 finished with value: 0.9117636861630205 and parameters: {'max_depth': 35, 'n_estimators': 1, 'learning_rate': 2.7948196909157036e-06}. Best is trial 1 with value: 0.9117636861630205.\n",
            "[I 2024-12-12 20:44:42,524] Trial 0 finished with value: 0.9117636861630205 and parameters: {'max_depth': 96, 'n_estimators': 175, 'learning_rate': 2.2795752495443987e-06}. Best is trial 0 with value: 0.9117636861630205.\n",
            "[I 2024-12-12 20:44:44,141] Trial 2 finished with value: 0.9665430087022848 and parameters: {'max_depth': 66, 'n_estimators': 169, 'learning_rate': 0.06977620265091686}. Best is trial 2 with value: 0.9665430087022848.\n",
            "[I 2024-12-12 20:44:48,589] Trial 4 finished with value: 0.9710848386090213 and parameters: {'max_depth': 10, 'n_estimators': 169, 'learning_rate': 0.0635014610438432}. Best is trial 4 with value: 0.9710848386090213.\n",
            "[I 2024-12-12 20:44:53,402] Trial 3 finished with value: 0.9117636861630205 and parameters: {'max_depth': 90, 'n_estimators': 169, 'learning_rate': 2.0918091647579183e-05}. Best is trial 4 with value: 0.9710848386090213.\n",
            "[I 2024-12-12 20:44:55,243] Trial 5 finished with value: 0.9643934403494782 and parameters: {'max_depth': 24, 'n_estimators': 129, 'learning_rate': 0.40000216931060933}. Best is trial 4 with value: 0.9710848386090213.\n",
            "[I 2024-12-12 20:45:01,707] Trial 6 finished with value: 0.9117636861630205 and parameters: {'max_depth': 67, 'n_estimators': 138, 'learning_rate': 0.00010134362450380427}. Best is trial 4 with value: 0.9710848386090213.\n",
            "[I 2024-12-12 20:45:03,170] Trial 8 finished with value: 0.9117636861630205 and parameters: {'max_depth': 51, 'n_estimators': 7, 'learning_rate': 0.009043842445313484}. Best is trial 4 with value: 0.9710848386090213.\n",
            "[I 2024-12-12 20:45:05,218] Trial 7 finished with value: 0.9117636861630205 and parameters: {'max_depth': 78, 'n_estimators': 167, 'learning_rate': 1.2857343814522016e-06}. Best is trial 4 with value: 0.9710848386090213.\n",
            "[I 2024-12-12 20:45:08,055] Trial 10 finished with value: 0.9709114863225046 and parameters: {'max_depth': 21, 'n_estimators': 88, 'learning_rate': 0.006758681465996927}. Best is trial 4 with value: 0.9710848386090213.\n",
            "[I 2024-12-12 20:45:08,955] Trial 11 finished with value: 0.9669243837326215 and parameters: {'max_depth': 6, 'n_estimators': 63, 'learning_rate': 0.819060610365261}. Best is trial 4 with value: 0.9710848386090213.\n",
            "[I 2024-12-12 20:45:09,500] Trial 9 finished with value: 0.9117636861630205 and parameters: {'max_depth': 77, 'n_estimators': 188, 'learning_rate': 4.576178970155598e-05}. Best is trial 4 with value: 0.9710848386090213.\n",
            "[I 2024-12-12 20:45:09,713] Trial 12 finished with value: 0.9117636861630205 and parameters: {'max_depth': 2, 'n_estimators': 78, 'learning_rate': 0.0035691679705732214}. Best is trial 4 with value: 0.9710848386090213.\n",
            "[I 2024-12-12 20:45:10,390] Trial 13 finished with value: 0.9117636861630205 and parameters: {'max_depth': 5, 'n_estimators': 82, 'learning_rate': 0.0026314885995224946}. Best is trial 4 with value: 0.9710848386090213.\n",
            "[I 2024-12-12 20:45:12,007] Trial 15 finished with value: 0.9708768158652012 and parameters: {'max_depth': 25, 'n_estimators': 43, 'learning_rate': 0.030545257450871416}. Best is trial 4 with value: 0.9710848386090213.\n",
            "[I 2024-12-12 20:45:13,376] Trial 14 finished with value: 0.969385986201158 and parameters: {'max_depth': 22, 'n_estimators': 113, 'learning_rate': 0.02861727087315908}. Best is trial 4 with value: 0.9710848386090213.\n",
            "[I 2024-12-12 20:45:16,825] Trial 16 finished with value: 0.9117636861630205 and parameters: {'max_depth': 26, 'n_estimators': 117, 'learning_rate': 0.00022667996713947596}. Best is trial 4 with value: 0.9710848386090213.\n",
            "[I 2024-12-12 20:45:19,568] Trial 17 finished with value: 0.9117636861630205 and parameters: {'max_depth': 42, 'n_estimators': 142, 'learning_rate': 0.00030305611489592975}. Best is trial 4 with value: 0.9710848386090213.\n",
            "[I 2024-12-12 20:45:21,528] Trial 19 finished with value: 0.968553895225878 and parameters: {'max_depth': 14, 'n_estimators': 98, 'learning_rate': 0.16581543371373264}. Best is trial 4 with value: 0.9710848386090213.\n",
            "[I 2024-12-12 20:45:21,860] Trial 18 finished with value: 0.9117636861630205 and parameters: {'max_depth': 43, 'n_estimators': 146, 'learning_rate': 0.0005525444915071001}. Best is trial 4 with value: 0.9710848386090213.\n",
            "[I 2024-12-12 20:45:22,762] Trial 21 finished with value: 0.9709114863225046 and parameters: {'max_depth': 11, 'n_estimators': 44, 'learning_rate': 0.013012539694350171}. Best is trial 4 with value: 0.9710848386090213.\n",
            "[I 2024-12-12 20:45:22,970] Trial 20 finished with value: 0.9117636861630205 and parameters: {'max_depth': 44, 'n_estimators': 39, 'learning_rate': 0.0012848019814275158}. Best is trial 4 with value: 0.9710848386090213.\n",
            "[I 2024-12-12 20:45:23,813] Trial 23 finished with value: 0.9117636861630205 and parameters: {'max_depth': 14, 'n_estimators': 32, 'learning_rate': 0.010013277063640524}. Best is trial 4 with value: 0.9710848386090213.\n",
            "[I 2024-12-12 20:45:23,816] Trial 22 finished with value: 0.9117636861630205 and parameters: {'max_depth': 14, 'n_estimators': 39, 'learning_rate': 0.010428881817862919}. Best is trial 4 with value: 0.9710848386090213.\n",
            "[I 2024-12-12 20:45:25,959] Trial 24 finished with value: 0.9676177928786881 and parameters: {'max_depth': 31, 'n_estimators': 60, 'learning_rate': 0.10707897252765429}. Best is trial 4 with value: 0.9710848386090213.\n",
            "[I 2024-12-12 20:45:27,485] Trial 25 finished with value: 0.9691432930000347 and parameters: {'max_depth': 14, 'n_estimators': 200, 'learning_rate': 0.11109023278550703}. Best is trial 4 with value: 0.9710848386090213.\n",
            "[I 2024-12-12 20:45:27,906] Trial 26 finished with value: 0.9711541795236279 and parameters: {'max_depth': 13, 'n_estimators': 95, 'learning_rate': 0.025910228194915307}. Best is trial 26 with value: 0.9711541795236279.\n",
            "[I 2024-12-12 20:45:29,263] Trial 28 finished with value: 0.9117636861630205 and parameters: {'max_depth': 1, 'n_estimators': 96, 'learning_rate': 0.003954612282878062}. Best is trial 26 with value: 0.9711541795236279.\n",
            "[I 2024-12-12 20:45:29,353] Trial 27 finished with value: 0.9710154976944146 and parameters: {'max_depth': 8, 'n_estimators': 94, 'learning_rate': 0.020520653431547246}. Best is trial 26 with value: 0.9711541795236279.\n",
            "[I 2024-12-12 20:45:34,209] Trial 29 finished with value: 0.9682418611101481 and parameters: {'max_depth': 33, 'n_estimators': 113, 'learning_rate': 0.045286156539475715}. Best is trial 26 with value: 0.9711541795236279.\n",
            "[I 2024-12-12 20:45:34,317] Trial 30 finished with value: 0.9689005997989113 and parameters: {'max_depth': 35, 'n_estimators': 114, 'learning_rate': 0.036708108423381514}. Best is trial 26 with value: 0.9711541795236279.\n",
            "[I 2024-12-12 20:45:36,487] Trial 32 finished with value: 0.9663349859584648 and parameters: {'max_depth': 19, 'n_estimators': 84, 'learning_rate': 0.2583719161146684}. Best is trial 26 with value: 0.9711541795236279.\n",
            "[I 2024-12-12 20:45:37,701] Trial 33 finished with value: 0.9710848386090213 and parameters: {'max_depth': 10, 'n_estimators': 71, 'learning_rate': 0.022543229854380394}. Best is trial 26 with value: 0.9711541795236279.\n",
            "[I 2024-12-12 20:45:37,945] Trial 31 finished with value: 0.9657109177270048 and parameters: {'max_depth': 19, 'n_estimators': 157, 'learning_rate': 0.2210144967655107}. Best is trial 26 with value: 0.9711541795236279.\n",
            "[I 2024-12-12 20:45:38,665] Trial 34 finished with value: 0.9117636861630205 and parameters: {'max_depth': 7, 'n_estimators': 70, 'learning_rate': 0.0013701545971188844}. Best is trial 26 with value: 0.9711541795236279.\n",
            "[I 2024-12-12 20:45:38,919] Trial 35 finished with value: 0.9117636861630205 and parameters: {'max_depth': 8, 'n_estimators': 66, 'learning_rate': 0.0011316406700390706}. Best is trial 26 with value: 0.9711541795236279.\n",
            "[I 2024-12-12 20:45:42,034] Trial 36 finished with value: 0.9622785424539749 and parameters: {'max_depth': 99, 'n_estimators': 129, 'learning_rate': 0.9484481958489129}. Best is trial 26 with value: 0.9711541795236279.\n",
            "[I 2024-12-12 20:45:45,799] Trial 37 finished with value: 0.9703914294629546 and parameters: {'max_depth': 52, 'n_estimators': 126, 'learning_rate': 0.022456188552096173}. Best is trial 26 with value: 0.9711541795236279.\n",
            "[I 2024-12-12 20:45:48,358] Trial 38 finished with value: 0.9117636861630205 and parameters: {'max_depth': 29, 'n_estimators': 97, 'learning_rate': 6.626887189758319e-06}. Best is trial 26 with value: 0.9711541795236279.\n",
            "[I 2024-12-12 20:45:50,758] Trial 39 finished with value: 0.9117636861630205 and parameters: {'max_depth': 29, 'n_estimators': 105, 'learning_rate': 7.499636081216639e-06}. Best is trial 26 with value: 0.9711541795236279.\n",
            "[I 2024-12-12 20:45:51,882] Trial 40 finished with value: 0.969073952085428 and parameters: {'max_depth': 62, 'n_estimators': 54, 'learning_rate': 0.0704343430116665}. Best is trial 26 with value: 0.9711541795236279.\n",
            "[I 2024-12-12 20:45:53,988] Trial 41 finished with value: 0.969073952085428 and parameters: {'max_depth': 63, 'n_estimators': 56, 'learning_rate': 0.061381114764446375}. Best is trial 26 with value: 0.9711541795236279.\n",
            "[I 2024-12-12 20:45:55,364] Trial 42 finished with value: 0.9117636861630205 and parameters: {'max_depth': 20, 'n_estimators': 89, 'learning_rate': 0.004752578650789938}. Best is trial 26 with value: 0.9711541795236279.\n",
            "[I 2024-12-12 20:45:57,821] Trial 44 finished with value: 0.9709114863225046 and parameters: {'max_depth': 10, 'n_estimators': 74, 'learning_rate': 0.013770576221298026}. Best is trial 26 with value: 0.9711541795236279.\n",
            "[I 2024-12-12 20:45:58,017] Trial 43 finished with value: 0.9711888499809312 and parameters: {'max_depth': 18, 'n_estimators': 86, 'learning_rate': 0.01488109429155569}. Best is trial 43 with value: 0.9711888499809312.\n",
            "[I 2024-12-12 20:45:59,566] Trial 45 finished with value: 0.9674444405921714 and parameters: {'max_depth': 1, 'n_estimators': 104, 'learning_rate': 0.02015627093360553}. Best is trial 43 with value: 0.9711888499809312.\n",
            "[I 2024-12-12 20:45:59,900] Trial 46 finished with value: 0.9117636861630205 and parameters: {'max_depth': 2, 'n_estimators': 104, 'learning_rate': 0.0022339791880414254}. Best is trial 43 with value: 0.9711888499809312.\n",
            "[I 2024-12-12 20:46:00,796] Trial 47 finished with value: 0.9675831224213848 and parameters: {'max_depth': 17, 'n_estimators': 19, 'learning_rate': 0.43812587597708097}. Best is trial 43 with value: 0.9711888499809312.\n",
            "[I 2024-12-12 20:46:06,004] Trial 48 finished with value: 0.9643587698921748 and parameters: {'max_depth': 17, 'n_estimators': 176, 'learning_rate': 0.32689413875921874}. Best is trial 43 with value: 0.9711888499809312.\n",
            "[I 2024-12-12 20:46:09,501] Trial 50 finished with value: 0.967825815622508 and parameters: {'max_depth': 24, 'n_estimators': 77, 'learning_rate': 0.07899343507471138}. Best is trial 43 with value: 0.9711888499809312.\n",
            "[I 2024-12-12 20:46:10,537] Trial 49 finished with value: 0.971050168151718 and parameters: {'max_depth': 88, 'n_estimators': 182, 'learning_rate': 0.006189990845158445}. Best is trial 43 with value: 0.9711888499809312.\n",
            "[I 2024-12-12 20:46:11,688] Trial 51 finished with value: 0.9709114863225046 and parameters: {'max_depth': 5, 'n_estimators': 89, 'learning_rate': 0.00581637077250772}. Best is trial 43 with value: 0.9711888499809312.\n",
            "[I 2024-12-12 20:46:18,139] Trial 52 finished with value: 0.9709461567798079 and parameters: {'max_depth': 88, 'n_estimators': 181, 'learning_rate': 0.006418478742652794}. Best is trial 43 with value: 0.9711888499809312.\n",
            "[I 2024-12-12 20:46:18,933] Trial 53 finished with value: 0.969073952085428 and parameters: {'max_depth': 82, 'n_estimators': 183, 'learning_rate': 0.01832447253120261}. Best is trial 43 with value: 0.9711888499809312.\n",
            "[I 2024-12-12 20:46:21,513] Trial 55 finished with value: 0.9712928613528412 and parameters: {'max_depth': 11, 'n_estimators': 168, 'learning_rate': 0.03270254269516233}. Best is trial 55 with value: 0.9712928613528412.\n",
            "[I 2024-12-12 20:46:25,182] Trial 54 finished with value: 0.9699753839753147 and parameters: {'max_depth': 82, 'n_estimators': 163, 'learning_rate': 0.017471754269264415}. Best is trial 55 with value: 0.9712928613528412.\n",
            "[I 2024-12-12 20:46:30,099] Trial 56 finished with value: 0.9674791110494747 and parameters: {'max_depth': 39, 'n_estimators': 165, 'learning_rate': 0.042919813000534476}. Best is trial 55 with value: 0.9712928613528412.\n",
            "[I 2024-12-12 20:46:35,750] Trial 57 finished with value: 0.9673750996775647 and parameters: {'max_depth': 71, 'n_estimators': 198, 'learning_rate': 0.0441112671974808}. Best is trial 55 with value: 0.9712928613528412.\n",
            "[I 2024-12-12 20:46:41,438] Trial 59 finished with value: 0.968553895225878 and parameters: {'max_depth': 12, 'n_estimators': 156, 'learning_rate': 0.14223574476662415}. Best is trial 55 with value: 0.9712928613528412.\n",
            "[I 2024-12-12 20:46:41,852] Trial 58 finished with value: 0.9117636861630205 and parameters: {'max_depth': 70, 'n_estimators': 195, 'learning_rate': 0.0022384164745819445}. Best is trial 55 with value: 0.9712928613528412.\n",
            "[I 2024-12-12 20:46:48,232] Trial 61 finished with value: 0.9708074749505946 and parameters: {'max_depth': 47, 'n_estimators': 150, 'learning_rate': 0.009298908929562196}. Best is trial 55 with value: 0.9712928613528412.\n",
            "[I 2024-12-12 20:46:49,897] Trial 60 finished with value: 0.9117636861630205 and parameters: {'max_depth': 53, 'n_estimators': 192, 'learning_rate': 0.0005889185539335108}. Best is trial 55 with value: 0.9712928613528412.\n",
            "[I 2024-12-12 20:46:53,525] Trial 63 finished with value: 0.9711888499809312 and parameters: {'max_depth': 9, 'n_estimators': 137, 'learning_rate': 0.030046166189709546}. Best is trial 55 with value: 0.9712928613528412.\n",
            "[I 2024-12-12 20:46:57,617] Trial 64 finished with value: 0.9712928613528412 and parameters: {'max_depth': 11, 'n_estimators': 135, 'learning_rate': 0.02776164821375383}. Best is trial 55 with value: 0.9712928613528412.\n",
            "[I 2024-12-12 20:46:57,800] Trial 62 finished with value: 0.9684152133966647 and parameters: {'max_depth': 56, 'n_estimators': 138, 'learning_rate': 0.028401984128230202}. Best is trial 55 with value: 0.9712928613528412.\n",
            "[I 2024-12-12 20:46:59,740] Trial 66 finished with value: 0.9712928613528412 and parameters: {'max_depth': 5, 'n_estimators': 136, 'learning_rate': 0.08722920048422332}. Best is trial 55 with value: 0.9712928613528412.\n",
            "[I 2024-12-12 20:47:00,254] Trial 65 finished with value: 0.9713275318101445 and parameters: {'max_depth': 10, 'n_estimators': 136, 'learning_rate': 0.09125259445410222}. Best is trial 65 with value: 0.9713275318101445.\n",
            "[I 2024-12-12 20:47:01,109] Trial 67 finished with value: 0.9714662136393579 and parameters: {'max_depth': 6, 'n_estimators': 123, 'learning_rate': 0.12872846885170275}. Best is trial 67 with value: 0.9714662136393579.\n",
            "[I 2024-12-12 20:47:01,457] Trial 68 finished with value: 0.9713968727247513 and parameters: {'max_depth': 4, 'n_estimators': 135, 'learning_rate': 0.10259611279772836}. Best is trial 67 with value: 0.9714662136393579.\n",
            "[I 2024-12-12 20:47:02,544] Trial 69 finished with value: 0.968657906597788 and parameters: {'max_depth': 5, 'n_estimators': 136, 'learning_rate': 0.5850568593398701}. Best is trial 67 with value: 0.9714662136393579.\n",
            "[I 2024-12-12 20:47:02,734] Trial 70 finished with value: 0.9697326907741913 and parameters: {'max_depth': 5, 'n_estimators': 120, 'learning_rate': 0.4644847971303009}. Best is trial 67 with value: 0.9714662136393579.\n",
            "[I 2024-12-12 20:47:04,244] Trial 71 finished with value: 0.9713968727247513 and parameters: {'max_depth': 5, 'n_estimators': 120, 'learning_rate': 0.17826361346488037}. Best is trial 67 with value: 0.9714662136393579.\n",
            "[I 2024-12-12 20:47:08,060] Trial 72 finished with value: 0.9672017473910481 and parameters: {'max_depth': 17, 'n_estimators': 134, 'learning_rate': 0.1627272398528871}. Best is trial 67 with value: 0.9714662136393579.\n",
            "[I 2024-12-12 20:47:10,558] Trial 74 finished with value: 0.9712581908955379 and parameters: {'max_depth': 4, 'n_estimators': 123, 'learning_rate': 0.09827629698877148}. Best is trial 67 with value: 0.9714662136393579.\n",
            "[I 2024-12-12 20:47:10,926] Trial 73 finished with value: 0.9676871337932947 and parameters: {'max_depth': 17, 'n_estimators': 126, 'learning_rate': 0.16375864119835828}. Best is trial 67 with value: 0.9714662136393579.\n",
            "[I 2024-12-12 20:47:12,620] Trial 75 finished with value: 0.9712928613528412 and parameters: {'max_depth': 4, 'n_estimators': 121, 'learning_rate': 0.0924540760970401}. Best is trial 67 with value: 0.9714662136393579.\n",
            "[I 2024-12-12 20:47:13,013] Trial 76 finished with value: 0.971362202267448 and parameters: {'max_depth': 4, 'n_estimators': 144, 'learning_rate': 0.10681021406719021}. Best is trial 67 with value: 0.9714662136393579.\n",
            "[I 2024-12-12 20:47:14,926] Trial 77 finished with value: 0.9713968727247513 and parameters: {'max_depth': 3, 'n_estimators': 148, 'learning_rate': 0.24147730303485362}. Best is trial 67 with value: 0.9714662136393579.\n",
            "[I 2024-12-12 20:47:17,801] Trial 78 finished with value: 0.9670977360191381 and parameters: {'max_depth': 12, 'n_estimators': 146, 'learning_rate': 0.2199811023680586}. Best is trial 67 with value: 0.9714662136393579.\n",
            "[I 2024-12-12 20:47:20,716] Trial 79 finished with value: 0.9651215199528482 and parameters: {'max_depth': 13, 'n_estimators': 147, 'learning_rate': 0.2993895020904717}. Best is trial 67 with value: 0.9714662136393579.\n",
            "[I 2024-12-12 20:47:23,251] Trial 80 finished with value: 0.9686925770550914 and parameters: {'max_depth': 8, 'n_estimators': 152, 'learning_rate': 0.27603527546200385}. Best is trial 67 with value: 0.9714662136393579.\n",
            "[I 2024-12-12 20:47:24,943] Trial 81 finished with value: 0.9714315431820546 and parameters: {'max_depth': 8, 'n_estimators': 153, 'learning_rate': 0.05327515167727479}. Best is trial 67 with value: 0.9714662136393579.\n",
            "[I 2024-12-12 20:47:25,051] Trial 82 finished with value: 0.9716048954685712 and parameters: {'max_depth': 1, 'n_estimators': 142, 'learning_rate': 0.7316695530333095}. Best is trial 82 with value: 0.9716048954685712.\n",
            "[I 2024-12-12 20:47:26,553] Trial 83 finished with value: 0.9716395659258745 and parameters: {'max_depth': 1, 'n_estimators': 158, 'learning_rate': 0.7161486885849615}. Best is trial 83 with value: 0.9716395659258745.\n",
            "[I 2024-12-12 20:47:26,674] Trial 84 finished with value: 0.9708074749505946 and parameters: {'max_depth': 1, 'n_estimators': 157, 'learning_rate': 0.13643060727928916}. Best is trial 83 with value: 0.9716395659258745.\n",
            "[I 2024-12-12 20:47:28,234] Trial 85 finished with value: 0.9711541795236279 and parameters: {'max_depth': 2, 'n_estimators': 143, 'learning_rate': 0.820507252334416}. Best is trial 83 with value: 0.9716395659258745.\n",
            "[I 2024-12-12 20:47:29,506] Trial 86 finished with value: 0.9658149290989149 and parameters: {'max_depth': 7, 'n_estimators': 142, 'learning_rate': 0.5316608421533124}. Best is trial 83 with value: 0.9716395659258745.\n",
            "[I 2024-12-12 20:47:30,843] Trial 87 finished with value: 0.9652948722393648 and parameters: {'max_depth': 7, 'n_estimators': 130, 'learning_rate': 0.6347306447531499}. Best is trial 83 with value: 0.9716395659258745.\n",
            "[I 2024-12-12 20:47:31,240] Trial 88 finished with value: 0.9710154976944146 and parameters: {'max_depth': 3, 'n_estimators': 159, 'learning_rate': 0.05472921288805868}. Best is trial 83 with value: 0.9716395659258745.\n",
            "[I 2024-12-12 20:47:32,177] Trial 90 finished with value: 0.9708768158652012 and parameters: {'max_depth': 1, 'n_estimators': 110, 'learning_rate': 0.20340606885000276}. Best is trial 83 with value: 0.9716395659258745.\n",
            "[I 2024-12-12 20:47:32,429] Trial 89 finished with value: 0.9709461567798079 and parameters: {'max_depth': 3, 'n_estimators': 160, 'learning_rate': 0.05669873576041545}. Best is trial 83 with value: 0.9716395659258745.\n",
            "[I 2024-12-12 20:47:37,950] Trial 91 finished with value: 0.9651215199528482 and parameters: {'max_depth': 15, 'n_estimators': 152, 'learning_rate': 0.3305637853627751}. Best is trial 83 with value: 0.9716395659258745.\n",
            "[I 2024-12-12 20:47:38,964] Trial 92 finished with value: 0.9638040425753216 and parameters: {'max_depth': 15, 'n_estimators': 168, 'learning_rate': 0.3784501741915482}. Best is trial 83 with value: 0.9716395659258745.\n",
            "[I 2024-12-12 20:47:41,659] Trial 93 finished with value: 0.970114065804528 and parameters: {'max_depth': 9, 'n_estimators': 167, 'learning_rate': 0.12530716411111148}. Best is trial 83 with value: 0.9716395659258745.\n",
            "[I 2024-12-12 20:47:42,169] Trial 94 finished with value: 0.9706687931213813 and parameters: {'max_depth': 9, 'n_estimators': 130, 'learning_rate': 0.11908249167821779}. Best is trial 83 with value: 0.9716395659258745.\n",
            "[I 2024-12-12 20:47:44,790] Trial 95 finished with value: 0.9645667926359949 and parameters: {'max_depth': 7, 'n_estimators': 172, 'learning_rate': 0.6460244420613411}. Best is trial 83 with value: 0.9716395659258745.\n",
            "[I 2024-12-12 20:47:44,895] Trial 96 finished with value: 0.9646014630932982 and parameters: {'max_depth': 6, 'n_estimators': 176, 'learning_rate': 0.6993728990608288}. Best is trial 83 with value: 0.9716395659258745.\n",
            "[I 2024-12-12 20:47:46,314] Trial 97 finished with value: 0.970738134035988 and parameters: {'max_depth': 6, 'n_estimators': 142, 'learning_rate': 0.23473106332684007}. Best is trial 83 with value: 0.9716395659258745.\n",
            "[I 2024-12-12 20:47:46,748] Trial 98 finished with value: 0.9713275318101445 and parameters: {'max_depth': 10, 'n_estimators': 142, 'learning_rate': 0.06686516743909987}. Best is trial 83 with value: 0.9716395659258745.\n",
            "[I 2024-12-12 20:47:48,982] Trial 99 finished with value: 0.9630412925146483 and parameters: {'max_depth': 21, 'n_estimators': 152, 'learning_rate': 0.9114433562157607}. Best is trial 83 with value: 0.9716395659258745.\n"
          ]
        }
      ]
    },
    {
      "cell_type": "code",
      "source": [
        "# Mejor hiperparámetro\n",
        "params = study.best_params\n",
        "print(params)"
      ],
      "metadata": {
        "colab": {
          "base_uri": "https://localhost:8080/"
        },
        "id": "h9Ez-L0B0tbO",
        "outputId": "b9e2c4e9-93a2-4c9b-848d-bb09624cc8b3"
      },
      "execution_count": 14,
      "outputs": [
        {
          "output_type": "stream",
          "name": "stdout",
          "text": [
            "{'max_depth': 1, 'n_estimators': 158, 'learning_rate': 0.7161486885849615}\n"
          ]
        }
      ]
    },
    {
      "cell_type": "code",
      "source": [
        "# Mejor metrica\n",
        "score = study.best_value\n",
        "print(score)"
      ],
      "metadata": {
        "colab": {
          "base_uri": "https://localhost:8080/"
        },
        "id": "gjV_bO9T03Dr",
        "outputId": "c9d7dc44-54e9-443b-b74c-d68dbcc41947"
      },
      "execution_count": 15,
      "outputs": [
        {
          "output_type": "stream",
          "name": "stdout",
          "text": [
            "0.9716395659258745\n"
          ]
        }
      ]
    },
    {
      "cell_type": "code",
      "source": [
        "# Entrenamiento del mejor modelo\n",
        "model_XGBC = XGBClassifier(max_depth = 48, n_estimators = 130, learning_rate = 0.010291737939302062).fit(X_train, y_train)"
      ],
      "metadata": {
        "id": "6tz3jfjGohvL"
      },
      "execution_count": 18,
      "outputs": []
    },
    {
      "cell_type": "code",
      "source": [
        "# Metricas de desempeño\n",
        "XGBC_prediction = model_XGBC.predict(X_test)\n",
        "XGBC_acc = accuracy_score(y_test, XGBC_prediction) * 100\n",
        "XGBC_pre_0 = precision_score(y_test, XGBC_prediction, pos_label = 0) * 100\n",
        "XGBC_pre_1 = precision_score(y_test, XGBC_prediction, pos_label = 1) * 100\n",
        "XGBC_rec_0 = recall_score(y_test, XGBC_prediction, pos_label = 0) * 100\n",
        "XGBC_rec_1 = recall_score(y_test, XGBC_prediction, pos_label = 1) * 100\n",
        "XGBC_f1s_0 = f1_score(y_test, XGBC_prediction, pos_label = 0) * 100\n",
        "XGBC_f1s_1 = f1_score(y_test, XGBC_prediction, pos_label = 1) * 100\n",
        "columns = [\"Métricas\", \"Porcentaje_0\", \"Porcentaje_1\"]\n",
        "data = [[\"Precision\", XGBC_pre_0, XGBC_pre_1], [\"Recall\", XGBC_rec_0, XGBC_rec_1], [\"F1-score\", XGBC_f1s_0, XGBC_f1s_1]]\n",
        "metrics = pd.DataFrame(data, columns = columns)\n",
        "metrics"
      ],
      "metadata": {
        "colab": {
          "base_uri": "https://localhost:8080/",
          "height": 143
        },
        "id": "L0tO7k8nnf9T",
        "outputId": "5f1df65a-4391-407f-be0b-495ed0517753"
      },
      "execution_count": 37,
      "outputs": [
        {
          "output_type": "execute_result",
          "data": {
            "text/plain": [
              "    Métricas  Porcentaje_0  Porcentaje_1\n",
              "0  Precision     96.978194     99.195402\n",
              "1     Recall     99.946764     67.819253\n",
              "2   F1-score     98.440104     80.560093"
            ],
            "text/html": [
              "\n",
              "  <div id=\"df-dd16ad8f-a638-4687-bfcd-4d84385de4f3\" class=\"colab-df-container\">\n",
              "    <div>\n",
              "<style scoped>\n",
              "    .dataframe tbody tr th:only-of-type {\n",
              "        vertical-align: middle;\n",
              "    }\n",
              "\n",
              "    .dataframe tbody tr th {\n",
              "        vertical-align: top;\n",
              "    }\n",
              "\n",
              "    .dataframe thead th {\n",
              "        text-align: right;\n",
              "    }\n",
              "</style>\n",
              "<table border=\"1\" class=\"dataframe\">\n",
              "  <thead>\n",
              "    <tr style=\"text-align: right;\">\n",
              "      <th></th>\n",
              "      <th>Métricas</th>\n",
              "      <th>Porcentaje_0</th>\n",
              "      <th>Porcentaje_1</th>\n",
              "    </tr>\n",
              "  </thead>\n",
              "  <tbody>\n",
              "    <tr>\n",
              "      <th>0</th>\n",
              "      <td>Precision</td>\n",
              "      <td>96.978194</td>\n",
              "      <td>99.195402</td>\n",
              "    </tr>\n",
              "    <tr>\n",
              "      <th>1</th>\n",
              "      <td>Recall</td>\n",
              "      <td>99.946764</td>\n",
              "      <td>67.819253</td>\n",
              "    </tr>\n",
              "    <tr>\n",
              "      <th>2</th>\n",
              "      <td>F1-score</td>\n",
              "      <td>98.440104</td>\n",
              "      <td>80.560093</td>\n",
              "    </tr>\n",
              "  </tbody>\n",
              "</table>\n",
              "</div>\n",
              "    <div class=\"colab-df-buttons\">\n",
              "\n",
              "  <div class=\"colab-df-container\">\n",
              "    <button class=\"colab-df-convert\" onclick=\"convertToInteractive('df-dd16ad8f-a638-4687-bfcd-4d84385de4f3')\"\n",
              "            title=\"Convert this dataframe to an interactive table.\"\n",
              "            style=\"display:none;\">\n",
              "\n",
              "  <svg xmlns=\"http://www.w3.org/2000/svg\" height=\"24px\" viewBox=\"0 -960 960 960\">\n",
              "    <path d=\"M120-120v-720h720v720H120Zm60-500h600v-160H180v160Zm220 220h160v-160H400v160Zm0 220h160v-160H400v160ZM180-400h160v-160H180v160Zm440 0h160v-160H620v160ZM180-180h160v-160H180v160Zm440 0h160v-160H620v160Z\"/>\n",
              "  </svg>\n",
              "    </button>\n",
              "\n",
              "  <style>\n",
              "    .colab-df-container {\n",
              "      display:flex;\n",
              "      gap: 12px;\n",
              "    }\n",
              "\n",
              "    .colab-df-convert {\n",
              "      background-color: #E8F0FE;\n",
              "      border: none;\n",
              "      border-radius: 50%;\n",
              "      cursor: pointer;\n",
              "      display: none;\n",
              "      fill: #1967D2;\n",
              "      height: 32px;\n",
              "      padding: 0 0 0 0;\n",
              "      width: 32px;\n",
              "    }\n",
              "\n",
              "    .colab-df-convert:hover {\n",
              "      background-color: #E2EBFA;\n",
              "      box-shadow: 0px 1px 2px rgba(60, 64, 67, 0.3), 0px 1px 3px 1px rgba(60, 64, 67, 0.15);\n",
              "      fill: #174EA6;\n",
              "    }\n",
              "\n",
              "    .colab-df-buttons div {\n",
              "      margin-bottom: 4px;\n",
              "    }\n",
              "\n",
              "    [theme=dark] .colab-df-convert {\n",
              "      background-color: #3B4455;\n",
              "      fill: #D2E3FC;\n",
              "    }\n",
              "\n",
              "    [theme=dark] .colab-df-convert:hover {\n",
              "      background-color: #434B5C;\n",
              "      box-shadow: 0px 1px 3px 1px rgba(0, 0, 0, 0.15);\n",
              "      filter: drop-shadow(0px 1px 2px rgba(0, 0, 0, 0.3));\n",
              "      fill: #FFFFFF;\n",
              "    }\n",
              "  </style>\n",
              "\n",
              "    <script>\n",
              "      const buttonEl =\n",
              "        document.querySelector('#df-dd16ad8f-a638-4687-bfcd-4d84385de4f3 button.colab-df-convert');\n",
              "      buttonEl.style.display =\n",
              "        google.colab.kernel.accessAllowed ? 'block' : 'none';\n",
              "\n",
              "      async function convertToInteractive(key) {\n",
              "        const element = document.querySelector('#df-dd16ad8f-a638-4687-bfcd-4d84385de4f3');\n",
              "        const dataTable =\n",
              "          await google.colab.kernel.invokeFunction('convertToInteractive',\n",
              "                                                    [key], {});\n",
              "        if (!dataTable) return;\n",
              "\n",
              "        const docLinkHtml = 'Like what you see? Visit the ' +\n",
              "          '<a target=\"_blank\" href=https://colab.research.google.com/notebooks/data_table.ipynb>data table notebook</a>'\n",
              "          + ' to learn more about interactive tables.';\n",
              "        element.innerHTML = '';\n",
              "        dataTable['output_type'] = 'display_data';\n",
              "        await google.colab.output.renderOutput(dataTable, element);\n",
              "        const docLink = document.createElement('div');\n",
              "        docLink.innerHTML = docLinkHtml;\n",
              "        element.appendChild(docLink);\n",
              "      }\n",
              "    </script>\n",
              "  </div>\n",
              "\n",
              "\n",
              "<div id=\"df-a82b384c-b663-4c84-b1f9-78245c78afe1\">\n",
              "  <button class=\"colab-df-quickchart\" onclick=\"quickchart('df-a82b384c-b663-4c84-b1f9-78245c78afe1')\"\n",
              "            title=\"Suggest charts\"\n",
              "            style=\"display:none;\">\n",
              "\n",
              "<svg xmlns=\"http://www.w3.org/2000/svg\" height=\"24px\"viewBox=\"0 0 24 24\"\n",
              "     width=\"24px\">\n",
              "    <g>\n",
              "        <path d=\"M19 3H5c-1.1 0-2 .9-2 2v14c0 1.1.9 2 2 2h14c1.1 0 2-.9 2-2V5c0-1.1-.9-2-2-2zM9 17H7v-7h2v7zm4 0h-2V7h2v10zm4 0h-2v-4h2v4z\"/>\n",
              "    </g>\n",
              "</svg>\n",
              "  </button>\n",
              "\n",
              "<style>\n",
              "  .colab-df-quickchart {\n",
              "      --bg-color: #E8F0FE;\n",
              "      --fill-color: #1967D2;\n",
              "      --hover-bg-color: #E2EBFA;\n",
              "      --hover-fill-color: #174EA6;\n",
              "      --disabled-fill-color: #AAA;\n",
              "      --disabled-bg-color: #DDD;\n",
              "  }\n",
              "\n",
              "  [theme=dark] .colab-df-quickchart {\n",
              "      --bg-color: #3B4455;\n",
              "      --fill-color: #D2E3FC;\n",
              "      --hover-bg-color: #434B5C;\n",
              "      --hover-fill-color: #FFFFFF;\n",
              "      --disabled-bg-color: #3B4455;\n",
              "      --disabled-fill-color: #666;\n",
              "  }\n",
              "\n",
              "  .colab-df-quickchart {\n",
              "    background-color: var(--bg-color);\n",
              "    border: none;\n",
              "    border-radius: 50%;\n",
              "    cursor: pointer;\n",
              "    display: none;\n",
              "    fill: var(--fill-color);\n",
              "    height: 32px;\n",
              "    padding: 0;\n",
              "    width: 32px;\n",
              "  }\n",
              "\n",
              "  .colab-df-quickchart:hover {\n",
              "    background-color: var(--hover-bg-color);\n",
              "    box-shadow: 0 1px 2px rgba(60, 64, 67, 0.3), 0 1px 3px 1px rgba(60, 64, 67, 0.15);\n",
              "    fill: var(--button-hover-fill-color);\n",
              "  }\n",
              "\n",
              "  .colab-df-quickchart-complete:disabled,\n",
              "  .colab-df-quickchart-complete:disabled:hover {\n",
              "    background-color: var(--disabled-bg-color);\n",
              "    fill: var(--disabled-fill-color);\n",
              "    box-shadow: none;\n",
              "  }\n",
              "\n",
              "  .colab-df-spinner {\n",
              "    border: 2px solid var(--fill-color);\n",
              "    border-color: transparent;\n",
              "    border-bottom-color: var(--fill-color);\n",
              "    animation:\n",
              "      spin 1s steps(1) infinite;\n",
              "  }\n",
              "\n",
              "  @keyframes spin {\n",
              "    0% {\n",
              "      border-color: transparent;\n",
              "      border-bottom-color: var(--fill-color);\n",
              "      border-left-color: var(--fill-color);\n",
              "    }\n",
              "    20% {\n",
              "      border-color: transparent;\n",
              "      border-left-color: var(--fill-color);\n",
              "      border-top-color: var(--fill-color);\n",
              "    }\n",
              "    30% {\n",
              "      border-color: transparent;\n",
              "      border-left-color: var(--fill-color);\n",
              "      border-top-color: var(--fill-color);\n",
              "      border-right-color: var(--fill-color);\n",
              "    }\n",
              "    40% {\n",
              "      border-color: transparent;\n",
              "      border-right-color: var(--fill-color);\n",
              "      border-top-color: var(--fill-color);\n",
              "    }\n",
              "    60% {\n",
              "      border-color: transparent;\n",
              "      border-right-color: var(--fill-color);\n",
              "    }\n",
              "    80% {\n",
              "      border-color: transparent;\n",
              "      border-right-color: var(--fill-color);\n",
              "      border-bottom-color: var(--fill-color);\n",
              "    }\n",
              "    90% {\n",
              "      border-color: transparent;\n",
              "      border-bottom-color: var(--fill-color);\n",
              "    }\n",
              "  }\n",
              "</style>\n",
              "\n",
              "  <script>\n",
              "    async function quickchart(key) {\n",
              "      const quickchartButtonEl =\n",
              "        document.querySelector('#' + key + ' button');\n",
              "      quickchartButtonEl.disabled = true;  // To prevent multiple clicks.\n",
              "      quickchartButtonEl.classList.add('colab-df-spinner');\n",
              "      try {\n",
              "        const charts = await google.colab.kernel.invokeFunction(\n",
              "            'suggestCharts', [key], {});\n",
              "      } catch (error) {\n",
              "        console.error('Error during call to suggestCharts:', error);\n",
              "      }\n",
              "      quickchartButtonEl.classList.remove('colab-df-spinner');\n",
              "      quickchartButtonEl.classList.add('colab-df-quickchart-complete');\n",
              "    }\n",
              "    (() => {\n",
              "      let quickchartButtonEl =\n",
              "        document.querySelector('#df-a82b384c-b663-4c84-b1f9-78245c78afe1 button');\n",
              "      quickchartButtonEl.style.display =\n",
              "        google.colab.kernel.accessAllowed ? 'block' : 'none';\n",
              "    })();\n",
              "  </script>\n",
              "</div>\n",
              "\n",
              "  <div id=\"id_118a2c80-43e9-4fcf-9b1a-5eea64f0c94c\">\n",
              "    <style>\n",
              "      .colab-df-generate {\n",
              "        background-color: #E8F0FE;\n",
              "        border: none;\n",
              "        border-radius: 50%;\n",
              "        cursor: pointer;\n",
              "        display: none;\n",
              "        fill: #1967D2;\n",
              "        height: 32px;\n",
              "        padding: 0 0 0 0;\n",
              "        width: 32px;\n",
              "      }\n",
              "\n",
              "      .colab-df-generate:hover {\n",
              "        background-color: #E2EBFA;\n",
              "        box-shadow: 0px 1px 2px rgba(60, 64, 67, 0.3), 0px 1px 3px 1px rgba(60, 64, 67, 0.15);\n",
              "        fill: #174EA6;\n",
              "      }\n",
              "\n",
              "      [theme=dark] .colab-df-generate {\n",
              "        background-color: #3B4455;\n",
              "        fill: #D2E3FC;\n",
              "      }\n",
              "\n",
              "      [theme=dark] .colab-df-generate:hover {\n",
              "        background-color: #434B5C;\n",
              "        box-shadow: 0px 1px 3px 1px rgba(0, 0, 0, 0.15);\n",
              "        filter: drop-shadow(0px 1px 2px rgba(0, 0, 0, 0.3));\n",
              "        fill: #FFFFFF;\n",
              "      }\n",
              "    </style>\n",
              "    <button class=\"colab-df-generate\" onclick=\"generateWithVariable('metrics')\"\n",
              "            title=\"Generate code using this dataframe.\"\n",
              "            style=\"display:none;\">\n",
              "\n",
              "  <svg xmlns=\"http://www.w3.org/2000/svg\" height=\"24px\"viewBox=\"0 0 24 24\"\n",
              "       width=\"24px\">\n",
              "    <path d=\"M7,19H8.4L18.45,9,17,7.55,7,17.6ZM5,21V16.75L18.45,3.32a2,2,0,0,1,2.83,0l1.4,1.43a1.91,1.91,0,0,1,.58,1.4,1.91,1.91,0,0,1-.58,1.4L9.25,21ZM18.45,9,17,7.55Zm-12,3A5.31,5.31,0,0,0,4.9,8.1,5.31,5.31,0,0,0,1,6.5,5.31,5.31,0,0,0,4.9,4.9,5.31,5.31,0,0,0,6.5,1,5.31,5.31,0,0,0,8.1,4.9,5.31,5.31,0,0,0,12,6.5,5.46,5.46,0,0,0,6.5,12Z\"/>\n",
              "  </svg>\n",
              "    </button>\n",
              "    <script>\n",
              "      (() => {\n",
              "      const buttonEl =\n",
              "        document.querySelector('#id_118a2c80-43e9-4fcf-9b1a-5eea64f0c94c button.colab-df-generate');\n",
              "      buttonEl.style.display =\n",
              "        google.colab.kernel.accessAllowed ? 'block' : 'none';\n",
              "\n",
              "      buttonEl.onclick = () => {\n",
              "        google.colab.notebook.generateWithVariable('metrics');\n",
              "      }\n",
              "      })();\n",
              "    </script>\n",
              "  </div>\n",
              "\n",
              "    </div>\n",
              "  </div>\n"
            ],
            "application/vnd.google.colaboratory.intrinsic+json": {
              "type": "dataframe",
              "variable_name": "metrics",
              "summary": "{\n  \"name\": \"metrics\",\n  \"rows\": 3,\n  \"fields\": [\n    {\n      \"column\": \"M\\u00e9tricas\",\n      \"properties\": {\n        \"dtype\": \"string\",\n        \"num_unique_values\": 3,\n        \"samples\": [\n          \"Precision\",\n          \"Recall\",\n          \"F1-score\"\n        ],\n        \"semantic_type\": \"\",\n        \"description\": \"\"\n      }\n    },\n    {\n      \"column\": \"Porcentaje_0\",\n      \"properties\": {\n        \"dtype\": \"number\",\n        \"std\": 1.4843410731311668,\n        \"min\": 96.97819429583441,\n        \"max\": 99.94676401247243,\n        \"num_unique_values\": 3,\n        \"samples\": [\n          96.97819429583441,\n          99.94676401247243,\n          98.44010411790042\n        ],\n        \"semantic_type\": \"\",\n        \"description\": \"\"\n      }\n    },\n    {\n      \"column\": \"Porcentaje_1\",\n      \"properties\": {\n        \"dtype\": \"number\",\n        \"std\": 15.780084804501698,\n        \"min\": 67.81925343811395,\n        \"max\": 99.19540229885058,\n        \"num_unique_values\": 3,\n        \"samples\": [\n          99.19540229885058,\n          67.81925343811395,\n          80.56009334889148\n        ],\n        \"semantic_type\": \"\",\n        \"description\": \"\"\n      }\n    }\n  ]\n}"
            }
          },
          "metadata": {},
          "execution_count": 37
        }
      ]
    },
    {
      "cell_type": "code",
      "source": [
        "# Histograma de Accuracy\n",
        "plt.title('Metricas de Desempeño')\n",
        "plt.xlabel(\"Mètricas\")\n",
        "plt.ylabel(\"Porcentaje\")\n",
        "x = np.arange(len(metrics['Métricas']))\n",
        "plt.bar(x, metrics['Porcentaje_0'], width = 0.4, label = 'Etiqueta 0', color = \"#1B9E77\")\n",
        "plt.bar(x + 0.4, metrics['Porcentaje_1'], width = 0.4, label = 'Etiqueta 1', color = \"#66C2A5\")\n",
        "plt.xticks(x + 0.2, [\"Precision\", \"Recall\", \"F1-score\"])\n",
        "plt.legend()\n",
        "plt.savefig(\"xgb_model_metrics.jpg\")\n",
        "plt.show()"
      ],
      "metadata": {
        "colab": {
          "base_uri": "https://localhost:8080/",
          "height": 472
        },
        "id": "goEmEK53nsfW",
        "outputId": "716dde1a-210b-42e3-e3c9-31ed3121d3b9"
      },
      "execution_count": 39,
      "outputs": [
        {
          "output_type": "display_data",
          "data": {
            "text/plain": [
              "<Figure size 640x480 with 1 Axes>"
            ],
            "image/png": "[encoded data removed]"
          },
          "metadata": {}
        }
      ]
    },
    {
      "cell_type": "markdown",
      "source": [
        "**Universidad Nacional de Colombia** - *Facultad de Ingeniería*"
      ],
      "metadata": {
        "id": "xoqmBtePssXq"
      }
    }
  ]
}