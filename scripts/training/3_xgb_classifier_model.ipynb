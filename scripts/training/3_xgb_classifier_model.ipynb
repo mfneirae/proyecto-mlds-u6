{
  "nbformat": 4,
  "nbformat_minor": 0,
  "metadata": {
    "colab": {
      "provenance": []
    },
    "kernelspec": {
      "name": "python3",
      "display_name": "Python 3"
    },
    "language_info": {
      "name": "python"
    }
  },
  "cells": [
    {
      "cell_type": "markdown",
      "source": [
        "# **Reporte del Modelo Baseline**\n",
        "---"
      ],
      "metadata": {
        "id": "_A20c97_oVyt"
      }
    },
    {
      "cell_type": "code",
      "execution_count": 1,
      "metadata": {
        "id": "t2wCi1ZIoEiq",
        "colab": {
          "base_uri": "https://localhost:8080/"
        },
        "outputId": "7115fee8-5123-4c9c-f1fa-b3d20be63c3b"
      },
      "outputs": [
        {
          "output_type": "stream",
          "name": "stdout",
          "text": [
            "Collecting optuna\n",
            "  Downloading optuna-4.1.0-py3-none-any.whl.metadata (16 kB)\n",
            "Collecting alembic>=1.5.0 (from optuna)\n",
            "  Downloading alembic-1.14.0-py3-none-any.whl.metadata (7.4 kB)\n",
            "Collecting colorlog (from optuna)\n",
            "  Downloading colorlog-6.9.0-py3-none-any.whl.metadata (10 kB)\n",
            "Requirement already satisfied: numpy in /usr/local/lib/python3.10/dist-packages (from optuna) (1.26.4)\n",
            "Requirement already satisfied: packaging>=20.0 in /usr/local/lib/python3.10/dist-packages (from optuna) (24.2)\n",
            "Requirement already satisfied: sqlalchemy>=1.4.2 in /usr/local/lib/python3.10/dist-packages (from optuna) (2.0.36)\n",
            "Requirement already satisfied: tqdm in /usr/local/lib/python3.10/dist-packages (from optuna) (4.66.6)\n",
            "Requirement already satisfied: PyYAML in /usr/local/lib/python3.10/dist-packages (from optuna) (6.0.2)\n",
            "Collecting Mako (from alembic>=1.5.0->optuna)\n",
            "  Downloading Mako-1.3.8-py3-none-any.whl.metadata (2.9 kB)\n",
            "Requirement already satisfied: typing-extensions>=4 in /usr/local/lib/python3.10/dist-packages (from alembic>=1.5.0->optuna) (4.12.2)\n",
            "Requirement already satisfied: greenlet!=0.4.17 in /usr/local/lib/python3.10/dist-packages (from sqlalchemy>=1.4.2->optuna) (3.1.1)\n",
            "Requirement already satisfied: MarkupSafe>=0.9.2 in /usr/local/lib/python3.10/dist-packages (from Mako->alembic>=1.5.0->optuna) (3.0.2)\n",
            "Downloading optuna-4.1.0-py3-none-any.whl (364 kB)\n",
            "\u001b[2K   \u001b[90m━━━━━━━━━━━━━━━━━━━━━━━━━━━━━━━━━━━━━━━━\u001b[0m \u001b[32m364.4/364.4 kB\u001b[0m \u001b[31m7.5 MB/s\u001b[0m eta \u001b[36m0:00:00\u001b[0m\n",
            "\u001b[?25hDownloading alembic-1.14.0-py3-none-any.whl (233 kB)\n",
            "\u001b[2K   \u001b[90m━━━━━━━━━━━━━━━━━━━━━━━━━━━━━━━━━━━━━━━━\u001b[0m \u001b[32m233.5/233.5 kB\u001b[0m \u001b[31m17.3 MB/s\u001b[0m eta \u001b[36m0:00:00\u001b[0m\n",
            "\u001b[?25hDownloading colorlog-6.9.0-py3-none-any.whl (11 kB)\n",
            "Downloading Mako-1.3.8-py3-none-any.whl (78 kB)\n",
            "\u001b[2K   \u001b[90m━━━━━━━━━━━━━━━━━━━━━━━━━━━━━━━━━━━━━━━━\u001b[0m \u001b[32m78.6/78.6 kB\u001b[0m \u001b[31m6.5 MB/s\u001b[0m eta \u001b[36m0:00:00\u001b[0m\n",
            "\u001b[?25hInstalling collected packages: Mako, colorlog, alembic, optuna\n",
            "Successfully installed Mako-1.3.8 alembic-1.14.0 colorlog-6.9.0 optuna-4.1.0\n"
          ]
        }
      ],
      "source": [
        "# Librerias\n",
        "!pip install optuna\n",
        "import os\n",
        "import requests\n",
        "import logging\n",
        "import optuna\n",
        "import pandas as pd\n",
        "import matplotlib.pyplot as plt\n",
        "import seaborn as sns\n",
        "import numpy as np\n",
        "from sklearn.model_selection import train_test_split\n",
        "from xgboost import XGBClassifier\n",
        "from sklearn.metrics import accuracy_score"
      ]
    },
    {
      "cell_type": "code",
      "source": [
        "# Funcion para crear el objeto de creación de logs\n",
        "def create_logger():\n",
        "  logging.basicConfig(level = logging.INFO, format = '%(asctime)s - %(levenname)s - %(message)s')\n",
        "  logger = logging.getLogger('Logger')\n",
        "  logger.info('Logger creado')\n",
        "  return logger"
      ],
      "metadata": {
        "id": "iYKsYEk5qQjC"
      },
      "execution_count": 2,
      "outputs": []
    },
    {
      "cell_type": "code",
      "source": [
        "# Función de consumo a la base de datos de Firebase para cargar el DataSet\n",
        "def download_firebase(url, logger):\n",
        "  logger.info(\"Extrayendo el archivo desde Firebase\")\n",
        "  df = None\n",
        "  try:\n",
        "    df = pd.read_csv(url)\n",
        "    logger.info(\"Archivo cargado\")\n",
        "  except requests.exceptions.RequestException as e:\n",
        "    logger.info(f\"Error al descargar el archivo CSV: {e}\")\n",
        "  except pd.errors.EmptyDataError:\n",
        "    logger.info(\"El archivo CSV está vacío.\")\n",
        "  except Exception as e:\n",
        "    logger.info(f\"Ocurrió un error inesperado: {e}\")\n",
        "  return df"
      ],
      "metadata": {
        "id": "598_LJBno5tg"
      },
      "execution_count": 3,
      "outputs": []
    },
    {
      "cell_type": "code",
      "source": [
        "# Cargar DataSet\n",
        "url = 'https://firebasestorage.googleapis.com/v0/b/personalwp-8822c.appspot.com/o/diabetes_prediction_dataset.csv?alt=media&token=4d70d154-c3d0-4fa0-a3aa-9b9972dd3b95'\n",
        "logger = create_logger()\n",
        "df = download_firebase(url, logger)"
      ],
      "metadata": {
        "id": "xMUXQgZWo7qG"
      },
      "execution_count": 4,
      "outputs": []
    },
    {
      "cell_type": "code",
      "source": [
        "# Eliminación de valores atípicos y duplicados\n",
        "seventy_fifth = df['bmi'].quantile(0.75)\n",
        "twenty_fifth = df['bmi'].quantile(0.25)\n",
        "iqr = seventy_fifth - twenty_fifth\n",
        "upper = seventy_fifth + (10 * iqr)\n",
        "outliers_bmi_upper = df[(df['bmi'] > upper)]\n",
        "df = pd.merge(df, outliers_bmi_upper, indicator = True, how = 'outer').query('_merge == \"left_only\"').drop('_merge', axis = 1)\n",
        "df = df.drop_duplicates(keep = \"first\")"
      ],
      "metadata": {
        "id": "wA30JSPQo0GO"
      },
      "execution_count": 5,
      "outputs": []
    },
    {
      "cell_type": "code",
      "source": [
        "# Variables Categóricas a Numéricas\n",
        "df['gender'] = pd.factorize(df['gender'])[0]\n",
        "df['smoking_history'] = pd.factorize(df['smoking_history'])[0]"
      ],
      "metadata": {
        "id": "B4IRET2Ytun7"
      },
      "execution_count": 6,
      "outputs": []
    },
    {
      "cell_type": "markdown",
      "source": [
        "## **Implementación del Modelo**"
      ],
      "metadata": {
        "id": "2zzSq2C0IaKc"
      }
    },
    {
      "cell_type": "markdown",
      "source": [
        "### **Partición de Datos**"
      ],
      "metadata": {
        "id": "K0YLx3QDr7DH"
      }
    },
    {
      "cell_type": "code",
      "source": [
        "# Separación de la 'Data' (Características)\n",
        "X = df.drop(columns = 'diabetes')\n",
        "X.shape"
      ],
      "metadata": {
        "colab": {
          "base_uri": "https://localhost:8080/"
        },
        "id": "3GWAAMssuvmg",
        "outputId": "ca9644b9-f3c4-4809-d25d-9d8bbce2254d"
      },
      "execution_count": 7,
      "outputs": [
        {
          "output_type": "execute_result",
          "data": {
            "text/plain": [
              "(96143, 8)"
            ]
          },
          "metadata": {},
          "execution_count": 7
        }
      ]
    },
    {
      "cell_type": "code",
      "source": [
        "# Separación del 'Target' (Variable objetivo)\n",
        "y = df['diabetes']\n",
        "y.shape"
      ],
      "metadata": {
        "colab": {
          "base_uri": "https://localhost:8080/"
        },
        "id": "cGyAP8ECuwXQ",
        "outputId": "2e1e5dbf-5422-4e59-df7e-3dd1d28bd9e8"
      },
      "execution_count": 8,
      "outputs": [
        {
          "output_type": "execute_result",
          "data": {
            "text/plain": [
              "(96143,)"
            ]
          },
          "metadata": {},
          "execution_count": 8
        }
      ]
    },
    {
      "cell_type": "code",
      "source": [
        "# Partición de los datos: 70% para entrenamiento, 30% para prueba y estratificación en las etiquetas (y)\n",
        "X_train, X_test, y_train, y_test = train_test_split(X, y, test_size = 0.3, random_state = 42, stratify = y)"
      ],
      "metadata": {
        "id": "KQqBrKLuuU-Z"
      },
      "execution_count": 9,
      "outputs": []
    },
    {
      "cell_type": "code",
      "source": [
        "# Validación de la partición de los datos\n",
        "print(f'Número de muestras en entrenamiento: {X_train.shape[0]}')\n",
        "print(f'Número de muestras en prueba: {X_test.shape[0]}')\n",
        "print(f'Número de características: {X_train.shape[1]}')"
      ],
      "metadata": {
        "colab": {
          "base_uri": "https://localhost:8080/"
        },
        "id": "kYejGOa2vasR",
        "outputId": "fec13c78-c755-4ba0-ac04-de3e64aab174"
      },
      "execution_count": 10,
      "outputs": [
        {
          "output_type": "stream",
          "name": "stdout",
          "text": [
            "Número de muestras en entrenamiento: 67300\n",
            "Número de muestras en prueba: 28843\n",
            "Número de características: 8\n"
          ]
        }
      ]
    },
    {
      "cell_type": "code",
      "source": [
        "# Distribución de la variable objetivo en los conjuntos de entrenamiento y prueba\n",
        "print(f'Distribución de clases en entrenamiento: {np.bincount(y_train)}')\n",
        "print(f'Distribución de clases en prueba: {np.bincount(y_test)}')"
      ],
      "metadata": {
        "colab": {
          "base_uri": "https://localhost:8080/"
        },
        "id": "Xlh0y5UAwHkZ",
        "outputId": "06eeb1c8-4f18-4144-df68-3aa36b86e8b7"
      },
      "execution_count": 11,
      "outputs": [
        {
          "output_type": "stream",
          "name": "stdout",
          "text": [
            "Distribución de clases en entrenamiento: [61363  5937]\n",
            "Distribución de clases en prueba: [26298  2545]\n"
          ]
        }
      ]
    },
    {
      "cell_type": "markdown",
      "source": [
        "### **Entrenamiento del Modelo**"
      ],
      "metadata": {
        "id": "UF62NHrPwf2h"
      }
    },
    {
      "cell_type": "code",
      "source": [
        "# Función para la definición y entrenamiento de hiperparámetros a explorar\n",
        "def objective(trial):\n",
        "  max_depth = trial.suggest_int(\"max_depth\", 1, 100)\n",
        "  n_estimators = trial.suggest_int(\"n_estimators\", 1, 200)\n",
        "  learning_rate = trial.suggest_float(\"learning_rate\", 1e-6, 1, log = True)\n",
        "  model = XGBClassifier(max_depth = max_depth, n_estimators = n_estimators, learning_rate = learning_rate)\n",
        "  model.fit(X_train, y_train)\n",
        "  y_pred = model.predict(X_test)\n",
        "  score = accuracy_score(y_test, y_pred)\n",
        "  return score"
      ],
      "metadata": {
        "id": "XYM1pPGkxMN9"
      },
      "execution_count": 12,
      "outputs": []
    },
    {
      "cell_type": "code",
      "source": [
        "# Exploración de hiperparámetros\n",
        "study = optuna.create_study(direction = \"maximize\", storage = \"sqlite:///hp.db\", study_name = \"XGBClassifier\")\n",
        "study.optimize(func = objective, n_trials = 100, n_jobs = -1)"
      ],
      "metadata": {
        "colab": {
          "base_uri": "https://localhost:8080/"
        },
        "id": "CXIfOYa0z8cP",
        "outputId": "72a739f6-17b4-4f7d-9f5e-60b161397b71"
      },
      "execution_count": 13,
      "outputs": [
        {
          "output_type": "stream",
          "name": "stderr",
          "text": [
            "[I 2024-12-12 22:05:44,305] A new study created in RDB with name: XGBClassifier\n",
            "[I 2024-12-12 22:05:46,000] Trial 0 finished with value: 0.9117636861630205 and parameters: {'max_depth': 14, 'n_estimators': 14, 'learning_rate': 1.536623776500046e-05}. Best is trial 0 with value: 0.9117636861630205.\n",
            "[I 2024-12-12 22:05:49,285] Trial 1 finished with value: 0.9117636861630205 and parameters: {'max_depth': 33, 'n_estimators': 74, 'learning_rate': 4.447257859767375e-05}. Best is trial 0 with value: 0.9117636861630205.\n",
            "[I 2024-12-12 22:05:50,337] Trial 2 finished with value: 0.9117636861630205 and parameters: {'max_depth': 98, 'n_estimators': 68, 'learning_rate': 0.00021874682751560392}. Best is trial 0 with value: 0.9117636861630205.\n",
            "[I 2024-12-12 22:05:56,382] Trial 4 finished with value: 0.9117636861630205 and parameters: {'max_depth': 55, 'n_estimators': 107, 'learning_rate': 1.1924470204674052e-05}. Best is trial 0 with value: 0.9117636861630205.\n",
            "[I 2024-12-12 22:06:00,920] Trial 3 finished with value: 0.9117636861630205 and parameters: {'max_depth': 69, 'n_estimators': 192, 'learning_rate': 2.8477056116694003e-05}. Best is trial 0 with value: 0.9117636861630205.\n",
            "[I 2024-12-12 22:06:05,137] Trial 5 finished with value: 0.9625559061124016 and parameters: {'max_depth': 97, 'n_estimators': 183, 'learning_rate': 0.9827015416158272}. Best is trial 5 with value: 0.9625559061124016.\n",
            "[I 2024-12-12 22:06:10,942] Trial 6 finished with value: 0.9117636861630205 and parameters: {'max_depth': 43, 'n_estimators': 179, 'learning_rate': 0.0002587382864071668}. Best is trial 5 with value: 0.9625559061124016.\n",
            "[I 2024-12-12 22:06:13,975] Trial 8 finished with value: 0.9117636861630205 and parameters: {'max_depth': 73, 'n_estimators': 25, 'learning_rate': 5.551034784209046e-06}. Best is trial 5 with value: 0.9625559061124016.\n",
            "[I 2024-12-12 22:06:14,067] Trial 7 finished with value: 0.9117636861630205 and parameters: {'max_depth': 48, 'n_estimators': 141, 'learning_rate': 0.0017522241308692824}. Best is trial 5 with value: 0.9625559061124016.\n",
            "[I 2024-12-12 22:06:16,111] Trial 9 finished with value: 0.9117636861630205 and parameters: {'max_depth': 64, 'n_estimators': 51, 'learning_rate': 0.0005974846585233682}. Best is trial 5 with value: 0.9625559061124016.\n",
            "[I 2024-12-12 22:06:17,497] Trial 10 finished with value: 0.9117636861630205 and parameters: {'max_depth': 94, 'n_estimators': 97, 'learning_rate': 3.903703894546963e-05}. Best is trial 5 with value: 0.9625559061124016.\n",
            "[I 2024-12-12 22:06:18,565] Trial 12 finished with value: 0.9708768158652012 and parameters: {'max_depth': 3, 'n_estimators': 143, 'learning_rate': 0.06251824854732722}. Best is trial 12 with value: 0.9708768158652012.\n",
            "[I 2024-12-12 22:06:19,386] Trial 11 finished with value: 0.9616198037652116 and parameters: {'max_depth': 100, 'n_estimators': 139, 'learning_rate': 0.8561307012186232}. Best is trial 12 with value: 0.9708768158652012.\n",
            "[I 2024-12-12 22:06:19,831] Trial 13 finished with value: 0.9705647817494713 and parameters: {'max_depth': 3, 'n_estimators': 155, 'learning_rate': 0.7346334998048084}. Best is trial 12 with value: 0.9708768158652012.\n",
            "[I 2024-12-12 22:06:20,305] Trial 14 finished with value: 0.9715008840966612 and parameters: {'max_depth': 1, 'n_estimators': 159, 'learning_rate': 0.9462656599385462}. Best is trial 14 with value: 0.9715008840966612.\n",
            "[I 2024-12-12 22:06:20,855] Trial 15 finished with value: 0.9709114863225046 and parameters: {'max_depth': 2, 'n_estimators': 154, 'learning_rate': 0.05598921792359562}. Best is trial 14 with value: 0.9715008840966612.\n",
            "[I 2024-12-12 22:06:24,429] Trial 17 finished with value: 0.9686232361404847 and parameters: {'max_depth': 22, 'n_estimators': 116, 'learning_rate': 0.043244548091170225}. Best is trial 14 with value: 0.9715008840966612.\n",
            "[I 2024-12-12 22:06:24,645] Trial 16 finished with value: 0.9684152133966647 and parameters: {'max_depth': 22, 'n_estimators': 158, 'learning_rate': 0.04107694639944329}. Best is trial 14 with value: 0.9715008840966612.\n",
            "[I 2024-12-12 22:06:27,403] Trial 19 finished with value: 0.9709114863225046 and parameters: {'max_depth': 10, 'n_estimators': 121, 'learning_rate': 0.007855200886801203}. Best is trial 14 with value: 0.9715008840966612.\n",
            "[I 2024-12-12 22:06:29,695] Trial 18 finished with value: 0.9684845543112713 and parameters: {'max_depth': 19, 'n_estimators': 163, 'learning_rate': 0.06570591904497879}. Best is trial 14 with value: 0.9715008840966612.\n",
            "[I 2024-12-12 22:06:34,147] Trial 20 finished with value: 0.9652602017820615 and parameters: {'max_depth': 33, 'n_estimators': 200, 'learning_rate': 0.14395153132129831}. Best is trial 14 with value: 0.9715008840966612.\n",
            "[I 2024-12-12 22:06:34,816] Trial 21 finished with value: 0.9648094858371182 and parameters: {'max_depth': 34, 'n_estimators': 174, 'learning_rate': 0.21810298269251913}. Best is trial 14 with value: 0.9715008840966612.\n",
            "[I 2024-12-12 22:06:35,980] Trial 22 finished with value: 0.9709114863225046 and parameters: {'max_depth': 9, 'n_estimators': 125, 'learning_rate': 0.009350493172420319}. Best is trial 14 with value: 0.9715008840966612.\n",
            "[I 2024-12-12 22:06:36,596] Trial 23 finished with value: 0.9709114863225046 and parameters: {'max_depth': 10, 'n_estimators': 123, 'learning_rate': 0.0052241680571622}. Best is trial 14 with value: 0.9715008840966612.\n",
            "[I 2024-12-12 22:06:36,714] Trial 24 finished with value: 0.9709114863225046 and parameters: {'max_depth': 2, 'n_estimators': 94, 'learning_rate': 0.007790758249876048}. Best is trial 14 with value: 0.9715008840966612.\n",
            "[I 2024-12-12 22:06:37,280] Trial 25 finished with value: 0.9709114863225046 and parameters: {'max_depth': 2, 'n_estimators': 90, 'learning_rate': 0.007838264440832143}. Best is trial 14 with value: 0.9715008840966612.\n",
            "[I 2024-12-12 22:06:39,401] Trial 26 finished with value: 0.9711541795236279 and parameters: {'max_depth': 13, 'n_estimators': 134, 'learning_rate': 0.01762106379905951}. Best is trial 14 with value: 0.9715008840966612.\n",
            "[I 2024-12-12 22:06:40,886] Trial 27 finished with value: 0.9653642131539715 and parameters: {'max_depth': 15, 'n_estimators': 132, 'learning_rate': 0.3185535692980184}. Best is trial 14 with value: 0.9715008840966612.\n",
            "[I 2024-12-12 22:06:44,806] Trial 28 finished with value: 0.9645321221786916 and parameters: {'max_depth': 24, 'n_estimators': 147, 'learning_rate': 0.2918618159814111}. Best is trial 14 with value: 0.9715008840966612.\n",
            "[I 2024-12-12 22:06:47,150] Trial 29 finished with value: 0.9693513157438547 and parameters: {'max_depth': 24, 'n_estimators': 165, 'learning_rate': 0.023589174537162916}. Best is trial 14 with value: 0.9715008840966612.\n",
            "[I 2024-12-12 22:06:50,339] Trial 30 finished with value: 0.969073952085428 and parameters: {'max_depth': 27, 'n_estimators': 168, 'learning_rate': 0.022709932333556324}. Best is trial 14 with value: 0.9715008840966612.\n",
            "[I 2024-12-12 22:06:50,536] Trial 31 finished with value: 0.9117636861630205 and parameters: {'max_depth': 14, 'n_estimators': 171, 'learning_rate': 0.001939859395047137}. Best is trial 14 with value: 0.9715008840966612.\n",
            "[I 2024-12-12 22:06:51,975] Trial 33 finished with value: 0.9711195090663246 and parameters: {'max_depth': 9, 'n_estimators': 109, 'learning_rate': 0.017213724922375516}. Best is trial 14 with value: 0.9715008840966612.\n",
            "[I 2024-12-12 22:06:52,209] Trial 32 finished with value: 0.9117636861630205 and parameters: {'max_depth': 12, 'n_estimators': 111, 'learning_rate': 0.002837773931262499}. Best is trial 14 with value: 0.9715008840966612.\n",
            "[I 2024-12-12 22:06:53,166] Trial 35 finished with value: 0.9714315431820546 and parameters: {'max_depth': 7, 'n_estimators': 70, 'learning_rate': 0.13681923966704268}. Best is trial 14 with value: 0.9715008840966612.\n",
            "[I 2024-12-12 22:06:53,688] Trial 34 finished with value: 0.9117636861630205 and parameters: {'max_depth': 8, 'n_estimators': 109, 'learning_rate': 1.0509483517178838e-06}. Best is trial 14 with value: 0.9715008840966612.\n",
            "[I 2024-12-12 22:06:56,784] Trial 37 finished with value: 0.9683458724820581 and parameters: {'max_depth': 17, 'n_estimators': 75, 'learning_rate': 0.18668232658934822}. Best is trial 14 with value: 0.9715008840966612.\n",
            "[I 2024-12-12 22:06:57,328] Trial 36 finished with value: 0.9671324064764414 and parameters: {'max_depth': 39, 'n_estimators': 75, 'learning_rate': 0.11837505458810442}. Best is trial 14 with value: 0.9715008840966612.\n",
            "[I 2024-12-12 22:06:58,759] Trial 38 finished with value: 0.9709461567798079 and parameters: {'max_depth': 31, 'n_estimators': 57, 'learning_rate': 0.019161664525064417}. Best is trial 14 with value: 0.9715008840966612.\n",
            "[I 2024-12-12 22:06:59,075] Trial 39 finished with value: 0.9644974517213882 and parameters: {'max_depth': 30, 'n_estimators': 54, 'learning_rate': 0.5697362232141321}. Best is trial 14 with value: 0.9715008840966612.\n",
            "[I 2024-12-12 22:06:59,450] Trial 40 finished with value: 0.970426099920258 and parameters: {'max_depth': 7, 'n_estimators': 35, 'learning_rate': 0.5061546604196437}. Best is trial 14 with value: 0.9715008840966612.\n",
            "[I 2024-12-12 22:06:59,817] Trial 42 finished with value: 0.9117636861630205 and parameters: {'max_depth': 18, 'n_estimators': 3, 'learning_rate': 0.016963714392625256}. Best is trial 14 with value: 0.9715008840966612.\n",
            "[I 2024-12-12 22:07:00,187] Trial 41 finished with value: 0.9117636861630205 and parameters: {'max_depth': 85, 'n_estimators': 32, 'learning_rate': 0.00033272337365509617}. Best is trial 14 with value: 0.9715008840966612.\n",
            "[I 2024-12-12 22:07:01,915] Trial 43 finished with value: 0.9117636861630205 and parameters: {'max_depth': 46, 'n_estimators': 63, 'learning_rate': 0.0008263119051270668}. Best is trial 14 with value: 0.9715008840966612.\n",
            "[I 2024-12-12 22:07:01,933] Trial 44 finished with value: 0.9117636861630205 and parameters: {'max_depth': 54, 'n_estimators': 53, 'learning_rate': 8.206135571490389e-05}. Best is trial 14 with value: 0.9715008840966612.\n",
            "[I 2024-12-12 22:07:02,921] Trial 45 finished with value: 0.9715008840966612 and parameters: {'max_depth': 6, 'n_estimators': 80, 'learning_rate': 0.10525139209425143}. Best is trial 14 with value: 0.9715008840966612.\n",
            "[I 2024-12-12 22:07:03,021] Trial 46 finished with value: 0.9712928613528412 and parameters: {'max_depth': 6, 'n_estimators': 90, 'learning_rate': 0.09993925976157579}. Best is trial 14 with value: 0.9715008840966612.\n",
            "[I 2024-12-12 22:07:03,902] Trial 47 finished with value: 0.9714662136393579 and parameters: {'max_depth': 6, 'n_estimators': 85, 'learning_rate': 0.09660158855636573}. Best is trial 14 with value: 0.9715008840966612.\n",
            "[I 2024-12-12 22:07:04,064] Trial 48 finished with value: 0.9715355545539646 and parameters: {'max_depth': 6, 'n_estimators': 82, 'learning_rate': 0.10278663288214447}. Best is trial 48 with value: 0.9715355545539646.\n",
            "[I 2024-12-12 22:07:04,699] Trial 50 finished with value: 0.9711195090663246 and parameters: {'max_depth': 1, 'n_estimators': 82, 'learning_rate': 0.43061386752282393}. Best is trial 48 with value: 0.9715355545539646.\n",
            "[I 2024-12-12 22:07:06,969] Trial 49 finished with value: 0.9677564747079014 and parameters: {'max_depth': 63, 'n_estimators': 84, 'learning_rate': 0.09247397116097562}. Best is trial 48 with value: 0.9715355545539646.\n",
            "[I 2024-12-12 22:07:08,309] Trial 51 finished with value: 0.9675831224213848 and parameters: {'max_depth': 60, 'n_estimators': 83, 'learning_rate': 0.08430462424323835}. Best is trial 48 with value: 0.9715355545539646.\n",
            "[I 2024-12-12 22:07:08,919] Trial 52 finished with value: 0.971362202267448 and parameters: {'max_depth': 6, 'n_estimators': 100, 'learning_rate': 0.10098586797451602}. Best is trial 48 with value: 0.9715355545539646.\n",
            "[I 2024-12-12 22:07:10,476] Trial 53 finished with value: 0.963734701660715 and parameters: {'max_depth': 6, 'n_estimators': 99, 'learning_rate': 0.9823162109961937}. Best is trial 48 with value: 0.9715355545539646.\n",
            "[I 2024-12-12 22:07:10,768] Trial 54 finished with value: 0.9709114863225046 and parameters: {'max_depth': 6, 'n_estimators': 101, 'learning_rate': 0.03539077765265225}. Best is trial 48 with value: 0.9715355545539646.\n",
            "[I 2024-12-12 22:07:11,330] Trial 55 finished with value: 0.9709114863225046 and parameters: {'max_depth': 6, 'n_estimators': 69, 'learning_rate': 0.038843019583563725}. Best is trial 48 with value: 0.9715355545539646.\n",
            "[I 2024-12-12 22:07:12,499] Trial 56 finished with value: 0.968137849738238 and parameters: {'max_depth': 20, 'n_estimators': 66, 'learning_rate': 0.15860792139053104}. Best is trial 48 with value: 0.9715355545539646.\n",
            "[I 2024-12-12 22:07:12,921] Trial 57 finished with value: 0.9684152133966647 and parameters: {'max_depth': 18, 'n_estimators': 65, 'learning_rate': 0.19883484504431131}. Best is trial 48 with value: 0.9715355545539646.\n",
            "[I 2024-12-12 22:07:14,553] Trial 59 finished with value: 0.9642200880629616 and parameters: {'max_depth': 75, 'n_estimators': 44, 'learning_rate': 0.44748868369457745}. Best is trial 48 with value: 0.9715355545539646.\n",
            "[I 2024-12-12 22:07:14,646] Trial 58 finished with value: 0.9655375654404882 and parameters: {'max_depth': 14, 'n_estimators': 103, 'learning_rate': 0.32552613469009195}. Best is trial 48 with value: 0.9715355545539646.\n",
            "[I 2024-12-12 22:07:15,290] Trial 61 finished with value: 0.9709114863225046 and parameters: {'max_depth': 1, 'n_estimators': 80, 'learning_rate': 0.05664642211704769}. Best is trial 48 with value: 0.9715355545539646.\n",
            "[I 2024-12-12 22:07:15,902] Trial 60 finished with value: 0.9712928613528412 and parameters: {'max_depth': 12, 'n_estimators': 77, 'learning_rate': 0.058056225580440185}. Best is trial 48 with value: 0.9715355545539646.\n",
            "[I 2024-12-12 22:07:16,236] Trial 62 finished with value: 0.9712235204382346 and parameters: {'max_depth': 5, 'n_estimators': 90, 'learning_rate': 0.11614401351894392}. Best is trial 48 with value: 0.9715355545539646.\n",
            "[I 2024-12-12 22:07:16,857] Trial 63 finished with value: 0.9713275318101445 and parameters: {'max_depth': 5, 'n_estimators': 90, 'learning_rate': 0.12062600533185582}. Best is trial 48 with value: 0.9715355545539646.\n",
            "[I 2024-12-12 22:07:17,091] Trial 64 finished with value: 0.9713275318101445 and parameters: {'max_depth': 4, 'n_estimators': 89, 'learning_rate': 0.24021081149926454}. Best is trial 48 with value: 0.9715355545539646.\n",
            "[I 2024-12-12 22:07:18,273] Trial 65 finished with value: 0.9692126339146413 and parameters: {'max_depth': 10, 'n_estimators': 88, 'learning_rate': 0.2694744020251709}. Best is trial 48 with value: 0.9715355545539646.\n",
            "[I 2024-12-12 22:07:18,500] Trial 66 finished with value: 0.9629719516000416 and parameters: {'max_depth': 11, 'n_estimators': 71, 'learning_rate': 0.7328951984745374}. Best is trial 48 with value: 0.9715355545539646.\n",
            "[I 2024-12-12 22:07:20,137] Trial 67 finished with value: 0.9635613493741982 and parameters: {'max_depth': 11, 'n_estimators': 95, 'learning_rate': 0.6857273716313964}. Best is trial 48 with value: 0.9715355545539646.\n",
            "[I 2024-12-12 22:07:20,750] Trial 68 finished with value: 0.9708421454078979 and parameters: {'max_depth': 15, 'n_estimators': 96, 'learning_rate': 0.031012634416599544}. Best is trial 48 with value: 0.9715355545539646.\n",
            "[I 2024-12-12 22:07:21,941] Trial 69 finished with value: 0.9695593384876746 and parameters: {'max_depth': 16, 'n_estimators': 46, 'learning_rate': 0.14831805101095433}. Best is trial 48 with value: 0.9715355545539646.\n",
            "[I 2024-12-12 22:07:22,074] Trial 70 finished with value: 0.9709114863225046 and parameters: {'max_depth': 4, 'n_estimators': 58, 'learning_rate': 0.07831679549835162}. Best is trial 48 with value: 0.9715355545539646.\n",
            "[I 2024-12-12 22:07:23,412] Trial 72 finished with value: 0.9711195090663246 and parameters: {'max_depth': 1, 'n_estimators': 115, 'learning_rate': 0.2555562555504761}. Best is trial 48 with value: 0.9715355545539646.\n",
            "[I 2024-12-12 22:07:23,511] Trial 71 finished with value: 0.9709114863225046 and parameters: {'max_depth': 3, 'n_estimators': 116, 'learning_rate': 0.010562830184564755}. Best is trial 48 with value: 0.9715355545539646.\n",
            "[I 2024-12-12 22:07:25,067] Trial 73 finished with value: 0.968761917969698 and parameters: {'max_depth': 8, 'n_estimators': 102, 'learning_rate': 0.35545523243529487}. Best is trial 48 with value: 0.9715355545539646.\n",
            "[I 2024-12-12 22:07:25,225] Trial 74 finished with value: 0.9672710883056548 and parameters: {'max_depth': 9, 'n_estimators': 104, 'learning_rate': 0.4080013509035575}. Best is trial 48 with value: 0.9715355545539646.\n",
            "[I 2024-12-12 22:07:26,088] Trial 76 finished with value: 0.9715355545539646 and parameters: {'max_depth': 4, 'n_estimators': 87, 'learning_rate': 0.19314352342869612}. Best is trial 48 with value: 0.9715355545539646.\n",
            "[I 2024-12-12 22:07:26,680] Trial 75 finished with value: 0.9715008840966612 and parameters: {'max_depth': 4, 'n_estimators': 192, 'learning_rate': 0.19148451947448528}. Best is trial 48 with value: 0.9715355545539646.\n",
            "[I 2024-12-12 22:07:27,359] Trial 77 finished with value: 0.9705647817494713 and parameters: {'max_depth': 13, 'n_estimators': 72, 'learning_rate': 0.14504076192689447}. Best is trial 48 with value: 0.9715355545539646.\n",
            "[I 2024-12-12 22:07:31,161] Trial 78 finished with value: 0.9683458724820581 and parameters: {'max_depth': 21, 'n_estimators': 186, 'learning_rate': 0.054680616076327335}. Best is trial 48 with value: 0.9715355545539646.\n",
            "[I 2024-12-12 22:07:32,070] Trial 79 finished with value: 0.9683458724820581 and parameters: {'max_depth': 22, 'n_estimators': 191, 'learning_rate': 0.04993783529064653}. Best is trial 48 with value: 0.9715355545539646.\n",
            "[I 2024-12-12 22:07:33,699] Trial 80 finished with value: 0.969073952085428 and parameters: {'max_depth': 8, 'n_estimators': 195, 'learning_rate': 0.20468130777793964}. Best is trial 48 with value: 0.9715355545539646.\n",
            "[I 2024-12-12 22:07:36,418] Trial 82 finished with value: 0.9713968727247513 and parameters: {'max_depth': 4, 'n_estimators': 151, 'learning_rate': 0.10834603422793766}. Best is trial 48 with value: 0.9715355545539646.\n",
            "[I 2024-12-12 22:07:38,146] Trial 83 finished with value: 0.9709114863225046 and parameters: {'max_depth': 1, 'n_estimators': 179, 'learning_rate': 0.02703790387247667}. Best is trial 48 with value: 0.9715355545539646.\n",
            "[I 2024-12-12 22:07:39,141] Trial 84 finished with value: 0.9709808272371112 and parameters: {'max_depth': 3, 'n_estimators': 124, 'learning_rate': 0.07615920692712773}. Best is trial 48 with value: 0.9715355545539646.\n",
            "[I 2024-12-12 22:07:40,586] Trial 81 finished with value: 0.9682418611101481 and parameters: {'max_depth': 37, 'n_estimators': 200, 'learning_rate': 0.02831908649988499}. Best is trial 48 with value: 0.9715355545539646.\n",
            "[I 2024-12-12 22:07:41,211] Trial 85 finished with value: 0.9712235204382346 and parameters: {'max_depth': 8, 'n_estimators': 163, 'learning_rate': 0.09752796055006173}. Best is trial 48 with value: 0.9715355545539646.\n",
            "[I 2024-12-12 22:07:42,138] Trial 86 finished with value: 0.9711541795236279 and parameters: {'max_depth': 8, 'n_estimators': 131, 'learning_rate': 0.10197843631562876}. Best is trial 48 with value: 0.9715355545539646.\n",
            "[I 2024-12-12 22:07:43,409] Trial 88 finished with value: 0.9117636861630205 and parameters: {'max_depth': 4, 'n_estimators': 150, 'learning_rate': 5.862351222903165e-06}. Best is trial 48 with value: 0.9715355545539646.\n",
            "[I 2024-12-12 22:07:44,185] Trial 87 finished with value: 0.9622438719966716 and parameters: {'max_depth': 12, 'n_estimators': 158, 'learning_rate': 0.6703401605410879}. Best is trial 48 with value: 0.9715355545539646.\n",
            "[I 2024-12-12 22:07:44,656] Trial 89 finished with value: 0.9653642131539715 and parameters: {'max_depth': 11, 'n_estimators': 61, 'learning_rate': 0.5729727010795368}. Best is trial 48 with value: 0.9715355545539646.\n",
            "[I 2024-12-12 22:07:45,907] Trial 90 finished with value: 0.9685885656831814 and parameters: {'max_depth': 16, 'n_estimators': 78, 'learning_rate': 0.17925615558598404}. Best is trial 48 with value: 0.9715355545539646.\n",
            "[I 2024-12-12 22:07:46,847] Trial 92 finished with value: 0.9713968727247513 and parameters: {'max_depth': 5, 'n_estimators': 86, 'learning_rate': 0.12675259430390814}. Best is trial 48 with value: 0.9715355545539646.\n",
            "[I 2024-12-12 22:07:47,454] Trial 91 finished with value: 0.9666816905314981 and parameters: {'max_depth': 15, 'n_estimators': 140, 'learning_rate': 0.17846037868967635}. Best is trial 48 with value: 0.9715355545539646.\n",
            "[I 2024-12-12 22:07:47,928] Trial 93 finished with value: 0.9709114863225046 and parameters: {'max_depth': 6, 'n_estimators': 83, 'learning_rate': 0.012872905161170633}. Best is trial 48 with value: 0.9715355545539646.\n",
            "[I 2024-12-12 22:07:49,009] Trial 94 finished with value: 0.9709114863225046 and parameters: {'max_depth': 6, 'n_estimators': 85, 'learning_rate': 0.04095887557835058}. Best is trial 48 with value: 0.9715355545539646.\n",
            "[I 2024-12-12 22:07:50,105] Trial 95 finished with value: 0.9709114863225046 and parameters: {'max_depth': 3, 'n_estimators': 177, 'learning_rate': 0.004530014550662907}. Best is trial 48 with value: 0.9715355545539646.\n",
            "[I 2024-12-12 22:07:50,198] Trial 96 finished with value: 0.9117636861630205 and parameters: {'max_depth': 3, 'n_estimators': 74, 'learning_rate': 0.00011534222765007045}. Best is trial 48 with value: 0.9715355545539646.\n",
            "[I 2024-12-12 22:07:51,351] Trial 97 finished with value: 0.9709808272371112 and parameters: {'max_depth': 1, 'n_estimators': 93, 'learning_rate': 0.28552910706820755}. Best is trial 48 with value: 0.9715355545539646.\n",
            "[I 2024-12-12 22:07:52,056] Trial 98 finished with value: 0.971362202267448 and parameters: {'max_depth': 10, 'n_estimators': 94, 'learning_rate': 0.07291661215913837}. Best is trial 48 with value: 0.9715355545539646.\n",
            "[I 2024-12-12 22:07:52,409] Trial 99 finished with value: 0.9713275318101445 and parameters: {'max_depth': 9, 'n_estimators': 108, 'learning_rate': 0.06847915219677328}. Best is trial 48 with value: 0.9715355545539646.\n"
          ]
        }
      ]
    },
    {
      "cell_type": "code",
      "source": [
        "# Mejor hiperparámetro\n",
        "params = study.best_params\n",
        "print(params)"
      ],
      "metadata": {
        "colab": {
          "base_uri": "https://localhost:8080/"
        },
        "id": "h9Ez-L0B0tbO",
        "outputId": "6c2dacb1-516d-4ef8-efa2-20924c1936ef"
      },
      "execution_count": 14,
      "outputs": [
        {
          "output_type": "stream",
          "name": "stdout",
          "text": [
            "{'max_depth': 6, 'n_estimators': 82, 'learning_rate': 0.10278663288214447}\n"
          ]
        }
      ]
    },
    {
      "cell_type": "code",
      "source": [
        "# Mejor metrica\n",
        "score = study.best_value\n",
        "print(score)"
      ],
      "metadata": {
        "colab": {
          "base_uri": "https://localhost:8080/"
        },
        "id": "gjV_bO9T03Dr",
        "outputId": "ff7eebd8-17d3-48b5-a136-a18b2343cf4b"
      },
      "execution_count": 15,
      "outputs": [
        {
          "output_type": "stream",
          "name": "stdout",
          "text": [
            "0.9715355545539646\n"
          ]
        }
      ]
    },
    {
      "cell_type": "markdown",
      "source": [
        "**Universidad Nacional de Colombia** - *Facultad de Ingeniería*"
      ],
      "metadata": {
        "id": "xoqmBtePssXq"
      }
    }
  ]
}