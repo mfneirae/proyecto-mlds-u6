{
  "nbformat": 4,
  "nbformat_minor": 0,
  "metadata": {
    "colab": {
      "provenance": [],
      "toc_visible": true
    },
    "kernelspec": {
      "name": "python3",
      "display_name": "Python 3"
    },
    "language_info": {
      "name": "python"
    }
  },
  "cells": [
    {
      "cell_type": "markdown",
      "source": [
        "# **Reporte del Modelo Baseline**\n",
        "---"
      ],
      "metadata": {
        "id": "_A20c97_oVyt"
      }
    },
    {
      "cell_type": "code",
      "execution_count": 1,
      "metadata": {
        "id": "t2wCi1ZIoEiq",
        "colab": {
          "base_uri": "https://localhost:8080/"
        },
        "outputId": "17abe4cf-bb21-4ef9-927b-9c77876642f4"
      },
      "outputs": [
        {
          "output_type": "stream",
          "name": "stdout",
          "text": [
            "Collecting optuna\n",
            "  Downloading optuna-4.1.0-py3-none-any.whl.metadata (16 kB)\n",
            "Collecting alembic>=1.5.0 (from optuna)\n",
            "  Downloading alembic-1.14.0-py3-none-any.whl.metadata (7.4 kB)\n",
            "Collecting colorlog (from optuna)\n",
            "  Downloading colorlog-6.9.0-py3-none-any.whl.metadata (10 kB)\n",
            "Requirement already satisfied: numpy in /usr/local/lib/python3.10/dist-packages (from optuna) (1.26.4)\n",
            "Requirement already satisfied: packaging>=20.0 in /usr/local/lib/python3.10/dist-packages (from optuna) (24.2)\n",
            "Requirement already satisfied: sqlalchemy>=1.4.2 in /usr/local/lib/python3.10/dist-packages (from optuna) (2.0.36)\n",
            "Requirement already satisfied: tqdm in /usr/local/lib/python3.10/dist-packages (from optuna) (4.66.6)\n",
            "Requirement already satisfied: PyYAML in /usr/local/lib/python3.10/dist-packages (from optuna) (6.0.2)\n",
            "Collecting Mako (from alembic>=1.5.0->optuna)\n",
            "  Downloading Mako-1.3.8-py3-none-any.whl.metadata (2.9 kB)\n",
            "Requirement already satisfied: typing-extensions>=4 in /usr/local/lib/python3.10/dist-packages (from alembic>=1.5.0->optuna) (4.12.2)\n",
            "Requirement already satisfied: greenlet!=0.4.17 in /usr/local/lib/python3.10/dist-packages (from sqlalchemy>=1.4.2->optuna) (3.1.1)\n",
            "Requirement already satisfied: MarkupSafe>=0.9.2 in /usr/local/lib/python3.10/dist-packages (from Mako->alembic>=1.5.0->optuna) (3.0.2)\n",
            "Downloading optuna-4.1.0-py3-none-any.whl (364 kB)\n",
            "\u001b[2K   \u001b[90m━━━━━━━━━━━━━━━━━━━━━━━━━━━━━━━━━━━━━━━━\u001b[0m \u001b[32m364.4/364.4 kB\u001b[0m \u001b[31m5.5 MB/s\u001b[0m eta \u001b[36m0:00:00\u001b[0m\n",
            "\u001b[?25hDownloading alembic-1.14.0-py3-none-any.whl (233 kB)\n",
            "\u001b[2K   \u001b[90m━━━━━━━━━━━━━━━━━━━━━━━━━━━━━━━━━━━━━━━━\u001b[0m \u001b[32m233.5/233.5 kB\u001b[0m \u001b[31m14.0 MB/s\u001b[0m eta \u001b[36m0:00:00\u001b[0m\n",
            "\u001b[?25hDownloading colorlog-6.9.0-py3-none-any.whl (11 kB)\n",
            "Downloading Mako-1.3.8-py3-none-any.whl (78 kB)\n",
            "\u001b[2K   \u001b[90m━━━━━━━━━━━━━━━━━━━━━━━━━━━━━━━━━━━━━━━━\u001b[0m \u001b[32m78.6/78.6 kB\u001b[0m \u001b[31m3.5 MB/s\u001b[0m eta \u001b[36m0:00:00\u001b[0m\n",
            "\u001b[?25hInstalling collected packages: Mako, colorlog, alembic, optuna\n",
            "Successfully installed Mako-1.3.8 alembic-1.14.0 colorlog-6.9.0 optuna-4.1.0\n"
          ]
        }
      ],
      "source": [
        "# Librerias\n",
        "!pip install optuna\n",
        "import os\n",
        "import requests\n",
        "import logging\n",
        "import optuna\n",
        "import pandas as pd\n",
        "import matplotlib.pyplot as plt\n",
        "import seaborn as sns\n",
        "import numpy as np\n",
        "from sklearn.model_selection import train_test_split\n",
        "from sklearn.neighbors import KNeighborsClassifier\n",
        "from sklearn.metrics import accuracy_score"
      ]
    },
    {
      "cell_type": "code",
      "source": [
        "# Funcion para crear el objeto de creación de logs\n",
        "def create_logger():\n",
        "  logging.basicConfig(level = logging.INFO, format = '%(asctime)s - %(levenname)s - %(message)s')\n",
        "  logger = logging.getLogger('Logger')\n",
        "  logger.info('Logger creado')\n",
        "  return logger"
      ],
      "metadata": {
        "id": "iYKsYEk5qQjC"
      },
      "execution_count": 2,
      "outputs": []
    },
    {
      "cell_type": "code",
      "source": [
        "# Función de consumo a la base de datos de Firebase para cargar el DataSet\n",
        "def download_firebase(url, logger):\n",
        "  logger.info(\"Extrayendo el archivo desde Firebase\")\n",
        "  df = None\n",
        "  try:\n",
        "    df = pd.read_csv(url)\n",
        "    logger.info(\"Archivo cargado\")\n",
        "  except requests.exceptions.RequestException as e:\n",
        "    logger.info(f\"Error al descargar el archivo CSV: {e}\")\n",
        "  except pd.errors.EmptyDataError:\n",
        "    logger.info(\"El archivo CSV está vacío.\")\n",
        "  except Exception as e:\n",
        "    logger.info(f\"Ocurrió un error inesperado: {e}\")\n",
        "  return df"
      ],
      "metadata": {
        "id": "598_LJBno5tg"
      },
      "execution_count": 3,
      "outputs": []
    },
    {
      "cell_type": "code",
      "source": [
        "# Cargar DataSet\n",
        "url = 'https://firebasestorage.googleapis.com/v0/b/personalwp-8822c.appspot.com/o/diabetes_prediction_dataset.csv?alt=media&token=4d70d154-c3d0-4fa0-a3aa-9b9972dd3b95'\n",
        "logger = create_logger()\n",
        "df = download_firebase(url, logger)"
      ],
      "metadata": {
        "id": "xMUXQgZWo7qG"
      },
      "execution_count": 4,
      "outputs": []
    },
    {
      "cell_type": "code",
      "source": [
        "# Eliminación de valores atípicos y duplicados\n",
        "seventy_fifth = df['bmi'].quantile(0.75)\n",
        "twenty_fifth = df['bmi'].quantile(0.25)\n",
        "iqr = seventy_fifth - twenty_fifth\n",
        "upper = seventy_fifth + (10 * iqr)\n",
        "outliers_bmi_upper = df[(df['bmi'] > upper)]\n",
        "df = pd.merge(df, outliers_bmi_upper, indicator = True, how = 'outer').query('_merge == \"left_only\"').drop('_merge', axis = 1)\n",
        "df = df.drop_duplicates(keep = \"first\")"
      ],
      "metadata": {
        "id": "wA30JSPQo0GO"
      },
      "execution_count": 5,
      "outputs": []
    },
    {
      "cell_type": "code",
      "source": [
        "# Variables Categóricas a Numéricas\n",
        "df['gender'] = pd.factorize(df['gender'])[0]\n",
        "df['smoking_history'] = pd.factorize(df['smoking_history'])[0]"
      ],
      "metadata": {
        "id": "B4IRET2Ytun7"
      },
      "execution_count": 16,
      "outputs": []
    },
    {
      "cell_type": "markdown",
      "source": [
        "## **Implementación del Modelo**"
      ],
      "metadata": {
        "id": "2zzSq2C0IaKc"
      }
    },
    {
      "cell_type": "markdown",
      "source": [
        "### **Partición de Datos**"
      ],
      "metadata": {
        "id": "K0YLx3QDr7DH"
      }
    },
    {
      "cell_type": "code",
      "source": [
        "# Separación de la 'Data' (Características)\n",
        "X = df.drop(columns = 'diabetes')\n",
        "X.shape"
      ],
      "metadata": {
        "colab": {
          "base_uri": "https://localhost:8080/"
        },
        "id": "3GWAAMssuvmg",
        "outputId": "4d449e83-cfc3-42ca-a8b0-a30a0df1aa2e"
      },
      "execution_count": 7,
      "outputs": [
        {
          "output_type": "execute_result",
          "data": {
            "text/plain": [
              "(96143, 8)"
            ]
          },
          "metadata": {},
          "execution_count": 7
        }
      ]
    },
    {
      "cell_type": "code",
      "source": [
        "# Separación del 'Target' (Variable objetivo)\n",
        "y = df['diabetes']\n",
        "y.shape"
      ],
      "metadata": {
        "colab": {
          "base_uri": "https://localhost:8080/"
        },
        "id": "cGyAP8ECuwXQ",
        "outputId": "34b63f56-ad53-4668-a85a-222b19a836d2"
      },
      "execution_count": 8,
      "outputs": [
        {
          "output_type": "execute_result",
          "data": {
            "text/plain": [
              "(96143,)"
            ]
          },
          "metadata": {},
          "execution_count": 8
        }
      ]
    },
    {
      "cell_type": "code",
      "source": [
        "# Partición de los datos: 70% para entrenamiento, 30% para prueba y estratificación en las etiquetas (y)\n",
        "X_train, X_test, y_train, y_test = train_test_split(X, y, test_size = 0.3, random_state = 42, stratify = y)"
      ],
      "metadata": {
        "id": "KQqBrKLuuU-Z"
      },
      "execution_count": 9,
      "outputs": []
    },
    {
      "cell_type": "code",
      "source": [
        "# Validación de la partición de los datos\n",
        "print(f'Número de muestras en entrenamiento: {X_train.shape[0]}')\n",
        "print(f'Número de muestras en prueba: {X_test.shape[0]}')\n",
        "print(f'Número de características: {X_train.shape[1]}')"
      ],
      "metadata": {
        "colab": {
          "base_uri": "https://localhost:8080/"
        },
        "id": "kYejGOa2vasR",
        "outputId": "a53bfa61-9d12-49b1-c348-8e12a255f7c4"
      },
      "execution_count": 10,
      "outputs": [
        {
          "output_type": "stream",
          "name": "stdout",
          "text": [
            "Número de muestras en entrenamiento: 67300\n",
            "Número de muestras en prueba: 28843\n",
            "Número de características: 8\n"
          ]
        }
      ]
    },
    {
      "cell_type": "code",
      "source": [
        "# Distribución de la variable objetivo en los conjuntos de entrenamiento y prueba\n",
        "print(f'Distribución de clases en entrenamiento: {np.bincount(y_train)}')\n",
        "print(f'Distribución de clases en prueba: {np.bincount(y_test)}')"
      ],
      "metadata": {
        "colab": {
          "base_uri": "https://localhost:8080/"
        },
        "id": "Xlh0y5UAwHkZ",
        "outputId": "e0d6d28a-8694-4cee-953f-43fbe025cec5"
      },
      "execution_count": 11,
      "outputs": [
        {
          "output_type": "stream",
          "name": "stdout",
          "text": [
            "Distribución de clases en entrenamiento: [61363  5937]\n",
            "Distribución de clases en prueba: [26298  2545]\n"
          ]
        }
      ]
    },
    {
      "cell_type": "markdown",
      "source": [
        "### **Entrenamiento del Modelo**"
      ],
      "metadata": {
        "id": "UF62NHrPwf2h"
      }
    },
    {
      "cell_type": "code",
      "source": [
        "# Función para la definición y entrenamiento de hiperparámetros a explorar\n",
        "def objective(trial):\n",
        "  n_neighbors = trial.suggest_int(\"n_neighbors\", 1, 100)\n",
        "  model = KNeighborsClassifier(n_neighbors = n_neighbors)\n",
        "  model.fit(X_train, y_train)\n",
        "  y_pred = model.predict(X_test)\n",
        "  score = accuracy_score(y_test, y_pred)\n",
        "  return score"
      ],
      "metadata": {
        "id": "XYM1pPGkxMN9"
      },
      "execution_count": 12,
      "outputs": []
    },
    {
      "cell_type": "code",
      "source": [
        "# Exploración de hiperparámetros\n",
        "study = optuna.create_study(direction = \"maximize\", storage = \"sqlite:///hp.db\", study_name = \"KNeighborsClassifier\")\n",
        "study.optimize(func = objective, n_trials = 100, n_jobs = -1)"
      ],
      "metadata": {
        "colab": {
          "base_uri": "https://localhost:8080/"
        },
        "id": "CXIfOYa0z8cP",
        "outputId": "b09400a0-caaa-4a81-94e6-6ee2076c9c2f"
      },
      "execution_count": 13,
      "outputs": [
        {
          "output_type": "stream",
          "name": "stderr",
          "text": [
            "[I 2024-12-11 17:58:04,937] A new study created in RDB with name: KNeighborsClassifier\n",
            "[I 2024-12-11 17:58:18,521] Trial 0 finished with value: 0.9479943140450022 and parameters: {'n_neighbors': 34}. Best is trial 0 with value: 0.9479943140450022.\n",
            "[I 2024-12-11 17:58:19,887] Trial 1 finished with value: 0.946815518496689 and parameters: {'n_neighbors': 58}. Best is trial 0 with value: 0.9479943140450022.\n",
            "[I 2024-12-11 17:58:26,358] Trial 2 finished with value: 0.9500052005685955 and parameters: {'n_neighbors': 2}. Best is trial 2 with value: 0.9500052005685955.\n",
            "[I 2024-12-11 17:58:27,709] Trial 3 finished with value: 0.9507679506292688 and parameters: {'n_neighbors': 4}. Best is trial 3 with value: 0.9507679506292688.\n",
            "[I 2024-12-11 17:58:37,021] Trial 5 finished with value: 0.947231563984329 and parameters: {'n_neighbors': 52}. Best is trial 3 with value: 0.9507679506292688.\n",
            "[I 2024-12-11 17:58:37,083] Trial 4 finished with value: 0.946503484380959 and parameters: {'n_neighbors': 81}. Best is trial 3 with value: 0.9507679506292688.\n",
            "[I 2024-12-11 17:58:42,588] Trial 7 finished with value: 0.9511146552023021 and parameters: {'n_neighbors': 15}. Best is trial 7 with value: 0.9511146552023021.\n",
            "[I 2024-12-11 17:58:44,016] Trial 6 finished with value: 0.9477169503865756 and parameters: {'n_neighbors': 45}. Best is trial 7 with value: 0.9511146552023021.\n",
            "[I 2024-12-11 17:58:50,914] Trial 9 finished with value: 0.9512186665742122 and parameters: {'n_neighbors': 11}. Best is trial 9 with value: 0.9512186665742122.\n",
            "[I 2024-12-11 17:58:50,923] Trial 8 finished with value: 0.9484450299899456 and parameters: {'n_neighbors': 33}. Best is trial 7 with value: 0.9511146552023021.\n",
            "[I 2024-12-11 17:59:00,072] Trial 11 finished with value: 0.9463301320944423 and parameters: {'n_neighbors': 90}. Best is trial 9 with value: 0.9512186665742122.\n",
            "[I 2024-12-11 17:59:00,279] Trial 10 finished with value: 0.9462607911798356 and parameters: {'n_neighbors': 99}. Best is trial 9 with value: 0.9512186665742122.\n",
            "[I 2024-12-11 17:59:07,132] Trial 12 finished with value: 0.9503172346843255 and parameters: {'n_neighbors': 17}. Best is trial 9 with value: 0.9512186665742122.\n",
            "[I 2024-12-11 17:59:07,557] Trial 13 finished with value: 0.9498318482820789 and parameters: {'n_neighbors': 19}. Best is trial 9 with value: 0.9512186665742122.\n",
            "[I 2024-12-11 17:59:16,030] Trial 15 finished with value: 0.9493117914225289 and parameters: {'n_neighbors': 21}. Best is trial 9 with value: 0.9512186665742122.\n",
            "[I 2024-12-11 17:59:16,041] Trial 14 finished with value: 0.9498318482820789 and parameters: {'n_neighbors': 19}. Best is trial 9 with value: 0.9512186665742122.\n",
            "[I 2024-12-11 17:59:24,123] Trial 16 finished with value: 0.9464688139236557 and parameters: {'n_neighbors': 74}. Best is trial 9 with value: 0.9512186665742122.\n",
            "[I 2024-12-11 17:59:24,225] Trial 17 finished with value: 0.9466421662101723 and parameters: {'n_neighbors': 71}. Best is trial 9 with value: 0.9512186665742122.\n",
            "[I 2024-12-11 17:59:32,221] Trial 19 finished with value: 0.9479249731303956 and parameters: {'n_neighbors': 36}. Best is trial 9 with value: 0.9512186665742122.\n",
            "[I 2024-12-11 17:59:32,231] Trial 18 finished with value: 0.9482023367888223 and parameters: {'n_neighbors': 35}. Best is trial 9 with value: 0.9512186665742122.\n",
            "[I 2024-12-11 17:59:37,425] Trial 20 finished with value: 0.9506639392573588 and parameters: {'n_neighbors': 5}. Best is trial 9 with value: 0.9512186665742122.\n",
            "[I 2024-12-11 17:59:38,652] Trial 21 finished with value: 0.9519814166348854 and parameters: {'n_neighbors': 9}. Best is trial 21 with value: 0.9519814166348854.\n",
            "[I 2024-12-11 17:59:43,953] Trial 22 finished with value: 0.9512186665742122 and parameters: {'n_neighbors': 8}. Best is trial 21 with value: 0.9519814166348854.\n",
            "[I 2024-12-11 17:59:44,924] Trial 23 finished with value: 0.9512186665742122 and parameters: {'n_neighbors': 11}. Best is trial 21 with value: 0.9519814166348854.\n",
            "[I 2024-12-11 17:59:49,250] Trial 24 finished with value: 0.9519814166348854 and parameters: {'n_neighbors': 9}. Best is trial 21 with value: 0.9519814166348854.\n",
            "[I 2024-12-11 17:59:51,961] Trial 25 finished with value: 0.9491384391360123 and parameters: {'n_neighbors': 27}. Best is trial 21 with value: 0.9519814166348854.\n",
            "[I 2024-12-11 17:59:56,254] Trial 26 finished with value: 0.9490344277641022 and parameters: {'n_neighbors': 24}. Best is trial 21 with value: 0.9519814166348854.\n",
            "[I 2024-12-11 17:59:57,855] Trial 27 finished with value: 0.9487570641056755 and parameters: {'n_neighbors': 26}. Best is trial 21 with value: 0.9519814166348854.\n",
            "[I 2024-12-11 18:00:02,326] Trial 28 finished with value: 0.9508372915438754 and parameters: {'n_neighbors': 12}. Best is trial 21 with value: 0.9519814166348854.\n",
            "[I 2024-12-11 18:00:04,125] Trial 29 finished with value: 0.9512186665742122 and parameters: {'n_neighbors': 11}. Best is trial 21 with value: 0.9519814166348854.\n",
            "[I 2024-12-11 18:00:07,325] Trial 30 finished with value: 0.9500052005685955 and parameters: {'n_neighbors': 2}. Best is trial 21 with value: 0.9519814166348854.\n",
            "[I 2024-12-11 18:00:10,891] Trial 31 finished with value: 0.9478903026730923 and parameters: {'n_neighbors': 41}. Best is trial 21 with value: 0.9519814166348854.\n",
            "[I 2024-12-11 18:00:12,421] Trial 32 finished with value: 0.9519814166348854 and parameters: {'n_neighbors': 9}. Best is trial 21 with value: 0.9519814166348854.\n",
            "[I 2024-12-11 18:00:16,542] Trial 33 finished with value: 0.9512186665742122 and parameters: {'n_neighbors': 8}. Best is trial 21 with value: 0.9519814166348854.\n",
            "[I 2024-12-11 18:00:18,828] Trial 34 finished with value: 0.9512186665742122 and parameters: {'n_neighbors': 8}. Best is trial 21 with value: 0.9519814166348854.\n",
            "[I 2024-12-11 18:00:23,054] Trial 35 finished with value: 0.9363797108483861 and parameters: {'n_neighbors': 1}. Best is trial 21 with value: 0.9519814166348854.\n",
            "[I 2024-12-11 18:00:24,240] Trial 36 finished with value: 0.9363797108483861 and parameters: {'n_neighbors': 1}. Best is trial 21 with value: 0.9519814166348854.\n",
            "[I 2024-12-11 18:00:30,350] Trial 37 finished with value: 0.9484450299899456 and parameters: {'n_neighbors': 30}. Best is trial 21 with value: 0.9519814166348854.\n",
            "[I 2024-12-11 18:00:31,809] Trial 38 finished with value: 0.9484450299899456 and parameters: {'n_neighbors': 30}. Best is trial 21 with value: 0.9519814166348854.\n",
            "[I 2024-12-11 18:00:38,478] Trial 39 finished with value: 0.9470928821551157 and parameters: {'n_neighbors': 57}. Best is trial 21 with value: 0.9519814166348854.\n",
            "[I 2024-12-11 18:00:39,461] Trial 40 finished with value: 0.947231563984329 and parameters: {'n_neighbors': 52}. Best is trial 21 with value: 0.9519814166348854.\n",
            "[I 2024-12-11 18:00:44,456] Trial 41 finished with value: 0.9511146552023021 and parameters: {'n_neighbors': 15}. Best is trial 21 with value: 0.9519814166348854.\n",
            "[I 2024-12-11 18:00:45,874] Trial 42 finished with value: 0.9507679506292688 and parameters: {'n_neighbors': 14}. Best is trial 21 with value: 0.9519814166348854.\n",
            "[I 2024-12-11 18:00:51,275] Trial 43 finished with value: 0.9512186665742122 and parameters: {'n_neighbors': 8}. Best is trial 21 with value: 0.9519814166348854.\n",
            "[I 2024-12-11 18:00:52,369] Trial 44 finished with value: 0.9506639392573588 and parameters: {'n_neighbors': 5}. Best is trial 21 with value: 0.9519814166348854.\n",
            "[I 2024-12-11 18:00:57,449] Trial 45 finished with value: 0.9495544846236522 and parameters: {'n_neighbors': 23}. Best is trial 21 with value: 0.9519814166348854.\n",
            "[I 2024-12-11 18:00:59,457] Trial 46 finished with value: 0.9487917345629789 and parameters: {'n_neighbors': 22}. Best is trial 21 with value: 0.9519814166348854.\n",
            "[I 2024-12-11 18:01:04,072] Trial 47 finished with value: 0.9503172346843255 and parameters: {'n_neighbors': 17}. Best is trial 21 with value: 0.9519814166348854.\n",
            "[I 2024-12-11 18:01:05,486] Trial 48 finished with value: 0.9503172346843255 and parameters: {'n_neighbors': 17}. Best is trial 21 with value: 0.9519814166348854.\n",
            "[I 2024-12-11 18:01:07,929] Trial 49 finished with value: 0.9512186665742122 and parameters: {'n_neighbors': 6}. Best is trial 21 with value: 0.9519814166348854.\n",
            "[I 2024-12-11 18:01:11,710] Trial 50 finished with value: 0.9467461775820823 and parameters: {'n_neighbors': 67}. Best is trial 21 with value: 0.9519814166348854.\n",
            "[I 2024-12-11 18:01:13,797] Trial 51 finished with value: 0.9512186665742122 and parameters: {'n_neighbors': 11}. Best is trial 21 with value: 0.9519814166348854.\n",
            "[I 2024-12-11 18:01:18,616] Trial 52 finished with value: 0.9508372915438754 and parameters: {'n_neighbors': 12}. Best is trial 21 with value: 0.9519814166348854.\n",
            "[I 2024-12-11 18:01:19,711] Trial 53 finished with value: 0.9512186665742122 and parameters: {'n_neighbors': 11}. Best is trial 21 with value: 0.9519814166348854.\n",
            "[I 2024-12-11 18:01:24,494] Trial 54 finished with value: 0.9519814166348854 and parameters: {'n_neighbors': 9}. Best is trial 21 with value: 0.9519814166348854.\n",
            "[I 2024-12-11 18:01:26,610] Trial 55 finished with value: 0.9492077800506189 and parameters: {'n_neighbors': 20}. Best is trial 21 with value: 0.9519814166348854.\n",
            "[I 2024-12-11 18:01:30,938] Trial 56 finished with value: 0.9506639392573588 and parameters: {'n_neighbors': 5}. Best is trial 21 with value: 0.9519814166348854.\n",
            "[I 2024-12-11 18:01:32,388] Trial 57 finished with value: 0.9512186665742122 and parameters: {'n_neighbors': 6}. Best is trial 21 with value: 0.9519814166348854.\n",
            "[I 2024-12-11 18:01:38,589] Trial 58 finished with value: 0.9475782685573623 and parameters: {'n_neighbors': 40}. Best is trial 21 with value: 0.9519814166348854.\n",
            "[I 2024-12-11 18:01:39,243] Trial 59 finished with value: 0.9503172346843255 and parameters: {'n_neighbors': 17}. Best is trial 21 with value: 0.9519814166348854.\n",
            "[I 2024-12-11 18:01:47,398] Trial 60 finished with value: 0.9503172346843255 and parameters: {'n_neighbors': 17}. Best is trial 21 with value: 0.9519814166348854.\n",
            "[I 2024-12-11 18:01:47,441] Trial 61 finished with value: 0.9519814166348854 and parameters: {'n_neighbors': 9}. Best is trial 21 with value: 0.9519814166348854.\n",
            "[I 2024-12-11 18:01:53,675] Trial 62 finished with value: 0.9519814166348854 and parameters: {'n_neighbors': 9}. Best is trial 21 with value: 0.9519814166348854.\n",
            "[I 2024-12-11 18:01:53,702] Trial 63 finished with value: 0.9512186665742122 and parameters: {'n_neighbors': 8}. Best is trial 21 with value: 0.9519814166348854.\n",
            "[I 2024-12-11 18:02:02,632] Trial 65 finished with value: 0.9464341434663524 and parameters: {'n_neighbors': 86}. Best is trial 21 with value: 0.9519814166348854.\n",
            "[I 2024-12-11 18:02:03,488] Trial 64 finished with value: 0.9462261207225323 and parameters: {'n_neighbors': 100}. Best is trial 21 with value: 0.9519814166348854.\n",
            "[I 2024-12-11 18:02:08,476] Trial 66 finished with value: 0.9507679506292688 and parameters: {'n_neighbors': 14}. Best is trial 21 with value: 0.9519814166348854.\n",
            "[I 2024-12-11 18:02:08,918] Trial 67 finished with value: 0.9481329958742156 and parameters: {'n_neighbors': 3}. Best is trial 21 with value: 0.9519814166348854.\n",
            "[I 2024-12-11 18:02:12,824] Trial 68 finished with value: 0.9500052005685955 and parameters: {'n_neighbors': 2}. Best is trial 21 with value: 0.9519814166348854.\n",
            "[I 2024-12-11 18:02:14,439] Trial 69 finished with value: 0.9491384391360123 and parameters: {'n_neighbors': 27}. Best is trial 21 with value: 0.9519814166348854.\n",
            "[I 2024-12-11 18:02:19,155] Trial 70 finished with value: 0.9484797004472489 and parameters: {'n_neighbors': 28}. Best is trial 21 with value: 0.9519814166348854.\n",
            "[I 2024-12-11 18:02:21,090] Trial 71 finished with value: 0.9492077800506189 and parameters: {'n_neighbors': 20}. Best is trial 21 with value: 0.9519814166348854.\n",
            "[I 2024-12-11 18:02:25,542] Trial 72 finished with value: 0.9519814166348854 and parameters: {'n_neighbors': 9}. Best is trial 21 with value: 0.9519814166348854.\n",
            "[I 2024-12-11 18:02:26,970] Trial 73 finished with value: 0.9512186665742122 and parameters: {'n_neighbors': 8}. Best is trial 21 with value: 0.9519814166348854.\n",
            "[I 2024-12-11 18:02:31,423] Trial 74 finished with value: 0.9511146552023021 and parameters: {'n_neighbors': 10}. Best is trial 21 with value: 0.9519814166348854.\n",
            "[I 2024-12-11 18:02:32,760] Trial 75 finished with value: 0.9507679506292688 and parameters: {'n_neighbors': 14}. Best is trial 21 with value: 0.9519814166348854.\n",
            "[I 2024-12-11 18:02:39,196] Trial 76 finished with value: 0.9507679506292688 and parameters: {'n_neighbors': 14}. Best is trial 21 with value: 0.9519814166348854.\n",
            "[I 2024-12-11 18:02:40,004] Trial 77 finished with value: 0.9506639392573588 and parameters: {'n_neighbors': 5}. Best is trial 21 with value: 0.9519814166348854.\n",
            "[I 2024-12-11 18:02:44,518] Trial 78 finished with value: 0.9507679506292688 and parameters: {'n_neighbors': 4}. Best is trial 21 with value: 0.9519814166348854.\n",
            "[I 2024-12-11 18:02:45,929] Trial 79 finished with value: 0.9490344277641022 and parameters: {'n_neighbors': 24}. Best is trial 21 with value: 0.9519814166348854.\n",
            "[I 2024-12-11 18:02:50,797] Trial 80 finished with value: 0.9519814166348854 and parameters: {'n_neighbors': 9}. Best is trial 21 with value: 0.9519814166348854.\n",
            "[I 2024-12-11 18:02:52,102] Trial 81 finished with value: 0.9519814166348854 and parameters: {'n_neighbors': 9}. Best is trial 21 with value: 0.9519814166348854.\n",
            "[I 2024-12-11 18:02:57,345] Trial 83 finished with value: 0.9363797108483861 and parameters: {'n_neighbors': 1}. Best is trial 21 with value: 0.9519814166348854.\n",
            "[I 2024-12-11 18:02:58,302] Trial 82 finished with value: 0.9511146552023021 and parameters: {'n_neighbors': 10}. Best is trial 21 with value: 0.9519814166348854.\n",
            "[I 2024-12-11 18:03:03,018] Trial 84 finished with value: 0.9519814166348854 and parameters: {'n_neighbors': 9}. Best is trial 21 with value: 0.9519814166348854.\n",
            "[I 2024-12-11 18:03:03,691] Trial 85 finished with value: 0.9512186665742122 and parameters: {'n_neighbors': 8}. Best is trial 21 with value: 0.9519814166348854.\n",
            "[I 2024-12-11 18:03:09,848] Trial 86 finished with value: 0.9512533370315155 and parameters: {'n_neighbors': 13}. Best is trial 21 with value: 0.9519814166348854.\n",
            "[I 2024-12-11 18:03:10,204] Trial 87 finished with value: 0.9508372915438754 and parameters: {'n_neighbors': 12}. Best is trial 21 with value: 0.9519814166348854.\n",
            "[I 2024-12-11 18:03:14,676] Trial 88 finished with value: 0.9495891550809555 and parameters: {'n_neighbors': 18}. Best is trial 21 with value: 0.9519814166348854.\n",
            "[I 2024-12-11 18:03:16,901] Trial 89 finished with value: 0.947751620843879 and parameters: {'n_neighbors': 47}. Best is trial 21 with value: 0.9519814166348854.\n",
            "[I 2024-12-11 18:03:19,001] Trial 90 finished with value: 0.9512186665742122 and parameters: {'n_neighbors': 6}. Best is trial 21 with value: 0.9519814166348854.\n",
            "[I 2024-12-11 18:03:24,714] Trial 92 finished with value: 0.9511146552023021 and parameters: {'n_neighbors': 10}. Best is trial 21 with value: 0.9519814166348854.\n",
            "[I 2024-12-11 18:03:25,971] Trial 91 finished with value: 0.9462261207225323 and parameters: {'n_neighbors': 96}. Best is trial 21 with value: 0.9519814166348854.\n",
            "[I 2024-12-11 18:03:29,146] Trial 93 finished with value: 0.9481329958742156 and parameters: {'n_neighbors': 3}. Best is trial 21 with value: 0.9519814166348854.\n",
            "[I 2024-12-11 18:03:31,481] Trial 94 finished with value: 0.9511146552023021 and parameters: {'n_neighbors': 15}. Best is trial 21 with value: 0.9519814166348854.\n",
            "[I 2024-12-11 18:03:34,943] Trial 95 finished with value: 0.9504559165135388 and parameters: {'n_neighbors': 16}. Best is trial 21 with value: 0.9519814166348854.\n",
            "[I 2024-12-11 18:03:36,454] Trial 96 finished with value: 0.9519814166348854 and parameters: {'n_neighbors': 9}. Best is trial 21 with value: 0.9519814166348854.\n",
            "[I 2024-12-11 18:03:40,891] Trial 97 finished with value: 0.9519814166348854 and parameters: {'n_neighbors': 9}. Best is trial 21 with value: 0.9519814166348854.\n",
            "[I 2024-12-11 18:03:42,500] Trial 98 finished with value: 0.9512186665742122 and parameters: {'n_neighbors': 6}. Best is trial 21 with value: 0.9519814166348854.\n",
            "[I 2024-12-11 18:03:44,909] Trial 99 finished with value: 0.9512186665742122 and parameters: {'n_neighbors': 6}. Best is trial 21 with value: 0.9519814166348854.\n"
          ]
        }
      ]
    },
    {
      "cell_type": "code",
      "source": [
        "# Mejor hiperparámetro\n",
        "params = study.best_params\n",
        "print(params)"
      ],
      "metadata": {
        "colab": {
          "base_uri": "https://localhost:8080/"
        },
        "id": "h9Ez-L0B0tbO",
        "outputId": "b4497333-aa92-43cf-de71-bb9cfc381b20"
      },
      "execution_count": 14,
      "outputs": [
        {
          "output_type": "stream",
          "name": "stdout",
          "text": [
            "{'n_neighbors': 9}\n"
          ]
        }
      ]
    },
    {
      "cell_type": "code",
      "source": [
        "# Mejor metrica\n",
        "score = study.best_value\n",
        "print(score)"
      ],
      "metadata": {
        "colab": {
          "base_uri": "https://localhost:8080/"
        },
        "id": "gjV_bO9T03Dr",
        "outputId": "e7b76295-3358-47fd-9b42-4ab377e5df36"
      },
      "execution_count": 15,
      "outputs": [
        {
          "output_type": "stream",
          "name": "stdout",
          "text": [
            "0.9519814166348854\n"
          ]
        }
      ]
    },
    {
      "cell_type": "markdown",
      "source": [
        "**Universidad Nacional de Colombia** - *Facultad de Ingeniería*"
      ],
      "metadata": {
        "id": "xoqmBtePssXq"
      }
    }
  ]
}